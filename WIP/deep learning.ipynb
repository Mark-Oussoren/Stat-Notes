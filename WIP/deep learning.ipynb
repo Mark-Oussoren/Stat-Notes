{
 "cells": [
  {
   "cell_type": "markdown",
   "id": "399557f6",
   "metadata": {},
   "source": [
    "# Deep Learning\n",
    "\n",
    "With time, I will fill this notebook with theory and examples. For now, the below to resources offer much better and fleshed out information."
   ]
  },
  {
   "cell_type": "markdown",
   "id": "1ab44226",
   "metadata": {},
   "source": [
    "# Sources\n",
    "\n",
    "- Practical\n",
    "    * https://d2l.ai\n",
    "- Theoretical\n",
    "    * https://www.cs.princeton.edu/courses/archive/fall19/cos597B/lecnotes/bookdraft.pdf\n"
   ]
  }
 ],
 "metadata": {
  "kernelspec": {
   "display_name": "Python 3 (ipykernel)",
   "language": "python",
   "name": "python3"
  },
  "language_info": {
   "codemirror_mode": {
    "name": "ipython",
    "version": 3
   },
   "file_extension": ".py",
   "mimetype": "text/x-python",
   "name": "python",
   "nbconvert_exporter": "python",
   "pygments_lexer": "ipython3",
   "version": "3.9.10"
  }
 },
 "nbformat": 4,
 "nbformat_minor": 5
}
