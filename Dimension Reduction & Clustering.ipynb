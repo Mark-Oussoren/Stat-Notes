{
 "cells": [
  {
   "cell_type": "markdown",
   "id": "97a0b2aa",
   "metadata": {},
   "source": [
    "# Dimension Reduction and Clustering\n",
    "\n",
    "This notebook will be redone after the end of the semester.\n"
   ]
  },
  {
   "cell_type": "markdown",
   "id": "58d7f39f",
   "metadata": {},
   "source": [
    "# Sources:\n",
    "* http://www.columbia.edu/~jwp2128/Teaching/W4721/Spring2017/slides/lecture_4-6-17.pdf\n",
    "* https://www.cs.columbia.edu/~djhsu/AML/lectures/notes-pca.pdf\n",
    "* https://people.math.harvard.edu/~knill/teaching/math22b2019/handouts/lecture17.pdf\n",
    "* http://pillowlab.princeton.edu/teaching/statneuro2018/slides/notes05_PCA2.pdf\n",
    "* https://cs.nju.edu.cn/_upload/tpl/01/0b/267/template267/zhouzh.files/course/dm/reading/reading03/fodor_techrep02.pdf\n",
    "* https://people.eecs.berkeley.edu/~jordan/sail/readings/luxburg_ftml.pdf\n",
    "\n",
    "SVD:\n",
    "* http://cda.psych.uiuc.edu/statistical_learning_course/Jolliffe%20I.%20Principal%20Component%20Analysis%20(2ed.,%20Springer,%202002)(518s)_MVsa_.pdf"
   ]
  }
 ],
 "metadata": {
  "kernelspec": {
   "display_name": "Python 3 (ipykernel)",
   "language": "python",
   "name": "python3"
  },
  "language_info": {
   "codemirror_mode": {
    "name": "ipython",
    "version": 3
   },
   "file_extension": ".py",
   "mimetype": "text/x-python",
   "name": "python",
   "nbconvert_exporter": "python",
   "pygments_lexer": "ipython3",
   "version": "3.9.10"
  }
 },
 "nbformat": 4,
 "nbformat_minor": 5
}
