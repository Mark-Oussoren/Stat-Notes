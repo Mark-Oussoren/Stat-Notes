{
 "cells": [
  {
   "cell_type": "markdown",
   "metadata": {},
   "source": [
    "# Moment Generating Functions"
   ]
  },
  {
   "cell_type": "markdown",
   "metadata": {},
   "source": [
    "### Definitions\n",
    "\n",
    " - $n$th Moment (Castella): For each integer $n$, the **$n$th moment** of $X$ (or $F_{X}(x)$), $\\mu_{n}' = E[X^{n}]$.\n",
    "\n",
    " - $n$th Central Moment (Castella): The **$n$th central moment** of $X$, $\\mu_{n} = E[(X - \\mu)^{n}]$, where $\\mu = \\mu_{1}' = E[X]$\n",
    "\n",
    " - Variance (Castella): The **variance** of a random variable $X$ is its second central moment; $Var[X] = E[(X - E[X])^{2}]$.\n",
    "\n",
    " - Moment Generating Function (Castella): Let $X$ be a random variable with cdf $F_{X}$. The **moment generating function (MGF)** of $X$ or $F_{X}$, denoted by $M_{X}(t) = E[e^{tX}]$, provided that the expectation exists for $t$ in some neighborhood of $0$. That is, there is an $h > 0$ such that, for all $t \\in (-h, h)$, $E[e^{tX}]$ exists. If the expectation doesn't exist in a neighborhood around $0$, we say that the MGF does not exist.\n",
    "\n",
    "   - If $X$ is continuous, $M_{X}(t) = \\int_{-\\infty}^{\\infty} e^{tx} f_{X}(x) dx$. \n",
    "   - If $X$ is discrete, $M_{X}(t) = \\sum_{x} e^{tx} P(X=x)$.\n",
    "\n",
    " - Moment Generating Function (Guntuboyina): The **moment generating function (MGF)** of $X$ is defined as the function $M_{X}(t) = E[e^{tX}]$ for all $t \\in \\mathbb{R}$ for which $E[e^{tX}]<\\infty$. Notice that $M_{X}(0) =1$.\n",
    "\n"
   ]
  },
  {
   "cell_type": "markdown",
   "metadata": {},
   "source": [
    "### Theorems\n",
    "\n",
    " - Theorem (Castella): If $X$ has MGF $M_{X}(t)$, then $E[X^{n}] = M_{X}^{(n)}(0)$, where $M_{X}^{(n)} (0) = \\frac{d^{n}}{dt^{n}} M_{X}(t) |_{t=0}$. In other words, the $n$th moment is equal to the $n$th derivative of $M_{X}(t)$ evaluated at $t=0$.\n",
    "\n",
    "\n",
    " - Theorem (Castella): Let $F_{X}(x) = F_{Y}(y)$ be two CDFs all of whose moments exist. \n",
    "     - If $X$ and $Y$ have bounded support, then $F_{X}(u) = F_{Y}(u)$ for all $u$ iff $E[X^{r}] = E[Y^{r}]$ for all integers $r = 0, 1, 2, 3, ...$. \n",
    "     -  If the MGFs exist and $M_{X}(t) = M_{Y}(t)$ for all $t$ in some neighborhood of $0$, then $F_{X}(u) = F_{Y}(u)$ for all $u$.\n",
    "     \n",
    "     \n",
    " - Convergence of MGFs, Theorem (Castella): Suppose $\\{X_{i}, i=1,2,...\\}$ is a sequence of random variables, each with MGF $M_{X_{i}}(t)$. Furthermore, suppose that $lim_{i \\rightarrow \\infty} M_{X_{i}}(t) = M_{X}(t)$ for all $t$ in a neighborhood of $0$, and $M_{X}(t)$ is an MGF. Then there is a unique CDF $F_{X}$ whose moments are determined by $M_{X}(t)$ and, for all $x$ where $F_{X}(x)$ is continuous we have $\\lim_{i \\rightarrow \\infty} F_{X_{i}(x) = F_{X}(x)}$. That is, convergence for $|t| < h$, of MGFs to an MGF implies convergence of CDFs.\n",
    " \n",
    " - Theorem (Castella): For any constants $a$ and $b$, the MGF of the random variable $aX+b$ is given by $M_{aX + b}(t) = e^{bt} M_{X}(at)$"
   ]
  },
  {
   "cell_type": "markdown",
   "metadata": {},
   "source": []
  },
  {
   "cell_type": "markdown",
   "metadata": {},
   "source": [
    "### Examples\n",
    "\n",
    "\n",
    "#### Exercise 2.25 \n",
    "\n",
    "Suppose the pdf $f_{X}(x)$ of a random variable $X$ is an even function. Show that \n",
    "\n",
    "a. $X$ and $-X$ are identically distributed. \n",
    "\n",
    "Since $f_{X}(x)$ is an even function, then $f_{X}(x) = f_{X}(-x)$ for every $x$.\n",
    "\n",
    "Using COV:\n",
    "\n",
    "Consider $Y=-X$. Then $X = -Y$.\n",
    "\n",
    "$$f_{Y}(y) = f_{X}(-y) \\left|\\frac{d}{dY} (-Y) \\right| = f_{X}(y) *1 = f_{X}(y)$$\n",
    "\n",
    "b. $M_{X}(t)$ is symmetric about $0$.\n",
    "\n",
    "Using the fact that $X$ and $-X$ are identically distributed.\n",
    "\n",
    "$$M_{X}(-t) = E \\left[e^{-tX} \\right] = \\int_{\\text{all } x} e^{tx} f_{-X}(x) dx = \\int_{\\text{all } x} e^{tx} f_{X}(x) dx = E \\left[e^{tX} \\right] = M_{X}(t)$$\n",
    "\n",
    "\n",
    "#### Exercise 2.31 (Castella)\n",
    "\n",
    "Does a distribution exist for which $M_{X}(t) = \\frac{t}{1-t}$, $|t| < 1$? If yes, find it. If no, prove it.\n",
    "\n",
    "By definition, $M_{X}(t) = E[e^{tX}]$, which when $t=0$ implies that $M_{X}(0)=1$ for any valid MGF.\n",
    "However, $\\frac{t}{1-t} \\bigg|_{t=0} = 0$. Thus, a distribution does not exist.\n",
    "\n",
    "\n",
    "#### Exercise 2.33 (Castella)\n",
    "\n",
    "In each of the following cases, verify the expression given for the MGF, and in each case, use the MGF to evaluate $E(X)$ and $V(X)$. \n",
    "\n",
    "a) $P(X=x) = \\frac{e^{-\\lambda} \\lambda^{x}}{x!}$ and $M_{X}(t) = e^{\\lambda (e^{t}-1)}$, $x = 0, 1, ....$; $\\lambda > 0$\n",
    "\n",
    "b) $P(X=x) = p(1-p)^{x}$ and $M_{X}(t) = \\frac{p}{1-(1-p)e^{t}}$, $x = 0, 1, ....$; $0<p<1$\n",
    "\n",
    "\n",
    "c) $f_{X}(x) = \\frac{e^{-(x-\\mu)^{2} } / (2 \\sigma^{2}) }{\\sqrt{2\\pi} \\sigma}$ and $M_{X}(t) =  e^{\\mu t. + \\sigma^{2} t^{2} / 2}$, $-\\infty < x < \\infty$; $-\\infty < \\mu < \\infty$; $\\sigma > 0$"
   ]
  },
  {
   "cell_type": "markdown",
   "metadata": {},
   "source": []
  },
  {
   "cell_type": "markdown",
   "metadata": {},
   "source": []
  },
  {
   "cell_type": "markdown",
   "metadata": {},
   "source": []
  },
  {
   "cell_type": "markdown",
   "metadata": {},
   "source": []
  },
  {
   "cell_type": "markdown",
   "metadata": {},
   "source": []
  },
  {
   "cell_type": "markdown",
   "metadata": {},
   "source": []
  },
  {
   "cell_type": "markdown",
   "metadata": {},
   "source": [
    "# Sources\n",
    "\n",
    " - \"Statistical Inference\" by Casella et al\n",
    " \n",
    " - http://pages.stat.wisc.edu/~shao/stat609/stat609-05.pdf"
   ]
  },
  {
   "cell_type": "code",
   "execution_count": null,
   "metadata": {},
   "outputs": [],
   "source": []
  }
 ],
 "metadata": {
  "kernelspec": {
   "display_name": "Python 3",
   "language": "python",
   "name": "python3"
  },
  "language_info": {
   "codemirror_mode": {
    "name": "ipython",
    "version": 3
   },
   "file_extension": ".py",
   "mimetype": "text/x-python",
   "name": "python",
   "nbconvert_exporter": "python",
   "pygments_lexer": "ipython3",
   "version": "3.6.10"
  }
 },
 "nbformat": 4,
 "nbformat_minor": 5
}
