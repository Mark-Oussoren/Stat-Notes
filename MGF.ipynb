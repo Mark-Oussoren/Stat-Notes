{
 "cells": [
  {
   "cell_type": "markdown",
   "id": "e6775bad",
   "metadata": {},
   "source": [
    "# Moment Generating Functions"
   ]
  },
  {
   "cell_type": "markdown",
   "id": "5ea141d4",
   "metadata": {},
   "source": [
    "### Definitions\n",
    "\n",
    " - $n$th Moment (Castella): For each integer $n$, the **$n$th moment** of $X$ (or $F_{X}(x)$), $\\mu_{n}' = E[X^{n}]$.\n",
    "\n",
    " - $n$th Central Moment (Castella): The **$n$th central moment** of $X$, $\\mu_{n} = E[(X - \\mu)^{n}]$, where $\\mu = \\mu_{1}' = E[X]$\n",
    "\n",
    " - Variance (Castella): The **variance** of a random variable $X$ is its second central moment; $Var[X] = E[(X - E[X])^{2}]$.\n",
    "\n",
    " - Moment Generating Function (Castella): Let $X$ be a random variable with cdf $F_{X}$. The **moment generating function (MGF)** of $X$ or $F_{X}$, denoted by $M_{X}(t) = E[e^{tX}]$, provided that the expectation exists for $t$ in some neighborhood of $0$. That is, there is an $h > 0$ such that, for all $t \\in (-h, h)$, $E[e^{tX}]$ exists. If the expectation doesn't exist in a neighborhood around $0$, we say that the MGF does not exist.\n",
    "\n",
    "   - If $X$ is continuous, $M_{X}(t) = \\int_{-\\infty}^{\\infty} e^{tx} f_{X}(x) dx$. \n",
    "   - If $X$ is discrete, $M_{X}(t) = \\sum_{x} e^{tx} P(X=x)$.\n",
    "\n",
    " - Moment Generating Function (Guntuboyina): The **moment generating function (MGF)** of $X$ is defined as the function $M_{X}(t) = E[e^{tX}]$ for all $t \\in \\mathbb{R}$ for which $E[e^{tX}]<\\infty$. Notice that $M_{X}(0) =1$.\n",
    "\n"
   ]
  },
  {
   "cell_type": "markdown",
   "id": "6333155a",
   "metadata": {},
   "source": [
    "### Theorems\n",
    "\n",
    " - Theorem (Castella): If $X$ has MGF $M_{X}(t)$, then $E[X^{n}] = M_{X}^{(n)}(0)$, where $M_{X}^{(n)} (0) = \\frac{d^{n}}{dt^{n}} M_{X}(t) |_{t=0}$. In other words, the $n$th moment is equal to the $n$th derivative of $M_{X}(t)$ evaluated at $t=0$.\n",
    "\n",
    "\n",
    " - Theorem (Castella): Let $F_{X}(x) = F_{Y}(y)$ be two CDFs all of whose moments exist. \n",
    "     - If $X$ and $Y$ have bounded support, then $F_{X}(u) = F_{Y}(u)$ for all $u$ iff $E[X^{r}] = E[Y^{r}]$ for all integers $r = 0, 1, 2, 3, ...$. \n",
    "     -  If the MGFs exist and $M_{X}(t) = M_{Y}(t)$ for all $t$ in some neighborhood of $0$, then $F_{X}(u) = F_{Y}(u)$ for all $u$."
   ]
  },
  {
   "cell_type": "markdown",
   "id": "188fba06",
   "metadata": {},
   "source": []
  },
  {
   "cell_type": "markdown",
   "id": "d545f1d8",
   "metadata": {},
   "source": [
    "### Examples\n",
    "\n",
    "\n",
    "LOL I need to find some."
   ]
  },
  {
   "cell_type": "markdown",
   "id": "7973a8c1",
   "metadata": {},
   "source": []
  },
  {
   "cell_type": "markdown",
   "id": "036791f1",
   "metadata": {},
   "source": []
  },
  {
   "cell_type": "markdown",
   "id": "ef6ff8ba",
   "metadata": {},
   "source": []
  },
  {
   "cell_type": "markdown",
   "id": "2885fa37",
   "metadata": {},
   "source": []
  },
  {
   "cell_type": "markdown",
   "id": "788fefd4",
   "metadata": {},
   "source": []
  },
  {
   "cell_type": "markdown",
   "id": "7f46f42e",
   "metadata": {},
   "source": []
  },
  {
   "cell_type": "markdown",
   "id": "98f4df40",
   "metadata": {},
   "source": [
    "# Sources\n",
    "\n",
    " - \"Statistical Inference\" by Casella et al"
   ]
  },
  {
   "cell_type": "code",
   "execution_count": null,
   "id": "5c8b80c6",
   "metadata": {},
   "outputs": [],
   "source": []
  }
 ],
 "metadata": {
  "kernelspec": {
   "display_name": "Python 3 (ipykernel)",
   "language": "python",
   "name": "python3"
  },
  "language_info": {
   "codemirror_mode": {
    "name": "ipython",
    "version": 3
   },
   "file_extension": ".py",
   "mimetype": "text/x-python",
   "name": "python",
   "nbconvert_exporter": "python",
   "pygments_lexer": "ipython3",
   "version": "3.9.9"
  }
 },
 "nbformat": 4,
 "nbformat_minor": 5
}
