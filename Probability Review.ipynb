{
 "cells": [
  {
   "cell_type": "markdown",
   "id": "f7e030fa",
   "metadata": {},
   "source": [
    "# Probability Review"
   ]
  },
  {
   "cell_type": "markdown",
   "id": "97d7d5c5",
   "metadata": {},
   "source": [
    "## Combinatorics Review - Problems taken from Feller vol. 1\n",
    "**Question 2.1)** Letters in the Morse code are formed by a succession of dashes and dots with repetitions permitted. How many latters is it possible to form with ten symbols or less?\\\n",
    "\\\n",
    "**Answer 2.1)** Order doesn't matter: -- is equivalent to -- even if we rearrange the order of the dashes. Let us consider a fixed $n$, a budget of sorts, where we want to distribute the dashes and dots - in our case, this simplifies to simply budgeting $x$ of our $n$ symbols to dashes and the remaining $n-x$ to dots. More precisely, our desired count of possibilities is $$\\sum\\limits_{x=0}^n \\binom{n}{x}=2^n.$$ This is not the solution to the entire problem as we are interested in varying $n$ from $1$ to $10$, in which case we end up with a finite, geometric sum $$\\sum\\limits_{n=1}^{10} 2^n=2(2^9-1).$$\\\n",
    "\\\n",
    "**Question 2.19)** Show that it is more probable to get at least one ace with four dice than at least one double ace in 24 throws of two dice. The problem is known as de Mere's paradox. \\\n",
    "\\\n",
    "**Answer 2.19)** Let us denote $1_{\\{X_i=1\\}}$ as the indicator random variable that $X_i=1$ (an ace) for $i=1,\\cdots,4$. In this case, we are interested in the probability that the sum of indicator variables is greater than or equal to one: $$\\mathbb{P}(1_{\\{X_1=1\\}}+\\cdots+1_{\\{X_4=1\\}}\\geq 1)=\\sum\\limits_{i=1}^4 \\binom{4}{i}\\frac{5^{4-i}}{6^4}.$$ For the second event, let $1_{\\{1_{X_{1,i}}+1_{X_{2,i}}=2\\}}$ denote the indicator random variable that we obtain two pairs of ones (aces). Then our probability is $$\\mathbb{P}(1_{\\{X_{1,1}+X_{2,1}=2\\}}+\\cdots +1_{\\{X_{1,24}+X_{2,24}=2\\}}\\geq 1)=\\sum\\limits_{i=1}^24 \\binom{24}{i}\\frac{35^{24-i}}{36^i}.$$ From here, it is obvious that the former is greater than the latter - to check, you could either use Stirling's and manipulate the equations or plug and chug. \\\n",
    "\\\n",
    "**Question 2.24)** What is the probability that (a) the birthdays of twelve people will fall in twelve different calendar months (assume equal probabilities for the twelve months), (b) the birthdays of six people will fall in exactly two calendar months?\\\n",
    "\\\n",
    "**Answer 2.24)** (a) We have twelve bins and twelve people to start, after the first is in say January, the next has eleven possibile months, then... (our event can happen in $12\\times 12!$ ways). In total, we have $12^12$ events, so then the probability is simply $\\frac{12!}{12^12}\\approx .0006.$ (b) We have $12^6$ ways of distributing six people into twelve months by birthday, there are $\\binom{12}{2}$ ways of selecting two of the twelve months (January, February = February, January). From these two months, each participant has two options - $2^6$. BUT, it must be exactly two months, so we have two paths where every participant selects one month only and so our final probability is $\\frac{\\binom{12}{2}(2^6-2)}{12^6}$. \\\n",
    "\\\n",
    "**Question 2.25)** Given thirty people, find the probability that among the twelve months there are six containing two birthdays and six containing three.\\\n",
    "\\\n",
    "**Answer 2.25)** I interpret this question as two separate probabilities. The first asking for what happens if there are six out of the twelve months with only two birthdays as opposed to like greater than or equal to two (which would be the complement of just one birthday in six months). With that said, this is very simple. Our sample space is $12^30$. We can select six months in $\\binom{12}{6}$ ways, and with two people there are $6^2$ ways of being distributed over the six months (void months are allowed of course as # people < # months). For the latter probability, it just changes the $6^2$ to $6^3$.\\\n",
    "\\\n",
    "**Question 2.26)** A closet contains $n$ pairs of shoes. If $2r$ shoes are chosen at random (with $2r<n$), what is the probability that there will be (a) no complete pair, (b) exactly one complete pair, (c) exactly two complete pairs among them?\\\n",
    "\\\n",
    "**Answer 2.26)** (a) For this and the following three, our sample space is $\\binom{2n}{2r}$. In this one, no pair means that from the $n$ pairs, all $2r$ are from different ones - that is $\\binom{n}{2r}$. For each of the $2r$ shoes from the $n$ pairs, we could either pick the right or left shoe - $2^{2r}$. Thus our probability is given by $$\\frac{\\binom{n}{2r}2^{2r}}{\\binom{2n}{2r}}.$$ For (b), we want $2(r-1)$ shoes that aren't paired and one pair. The number of combinations to get those unpaired is $\\binom{n}{2(r-1)}$. As before, each unpaired shoe can either be left or right ($2^{2(r-1)}$). Now that we have the combination of unpaired shoes, there are $n-2(r-1)$ pairs left to select the remaining pair - $\\binom{n}{2(r-1)}$ where there is only one way of selecting both shoes. Putting this all together gives us $$\\frac{\\binom{n}{2(r-1)}2^{2(r-1)\\binom{n-2(r-1)}{1}}}{\\binom{2n}{2r}}.$$ Finally, for (c) it is just a continuation of (b).  Select $2(r-2)$ unpaired shoes from $n$ pairs ($\\binom{n}{2(r-2)}$). For each unpaired shoe, they have two options: left or right ($2^{2(r-2)}$). Then for the pairs, we take what's left over - $n-2(r-2)$, and grab two pairs ($\\binom{n-2(r-2)}{2}$). Together we have $$\\frac{\\binom{n}{2(r-2)}2^{2(r-2)}\\binom{n-2(r-2)}{2}}{\\binom{2n}{2r}}.$$\\\n",
    "\\\n",
    "**Question 2.36)** If cards are drawn one by one, find the probabilities $f_1(r),\\dots,f_4(r)$ that the first,$\\dots$, fourth ace turns up at the $r$th trial. Guess at the medians fo the waiting times for the first,$\\dots$, fourth ace and then calculate them.\\\n",
    "\\\n",
    "**Answer 2.36)** Let us denote $A_1,\\dots,A_4$ as the random variables representing the occurance of the $i$th ace. For $A_i$, $$\\mathbb{P}(A_i=r)=\\frac{(48)_{r-1}}{(52)_r}\\binom{r-1}{i-1}$$ since we choose $48-r$ cards and $4-i$."
   ]
  },
  {
   "cell_type": "markdown",
   "id": "3ed3f894",
   "metadata": {},
   "source": [
    "## Polya's Urn and Probabilities\n",
    "\n"
   ]
  },
  {
   "cell_type": "markdown",
   "id": "91d215ad",
   "metadata": {},
   "source": [
    "## Expectation\n",
    "**Question 9.2)** Two ideal dices are thrown. Let $X$ be the score on the first die and $Y$ be the larger of the two scores. What are the means and variances of $X$ and $Y$.\\\n",
    "\\\n",
    "**Answer 9.2)** Clearly, $\\mathbb{E}(X)=3.5$ and $\\mathbb{V}(X)=\\mathbb{E}(X^2)-3.5^2=\\frac{1}{6}\\sum_{i=1}^6 i^2-3.5^2$. Letting $Z$ denote the other roll of the die, $$\\mathbb{E}(Y)=\\sum_{i=1}^n i\\left(\\mathbb{P}(X\\leq i,Z\\leq i)-\\mathbb{P}(X\\leq i-1,Y\\leq i-1)\\right)=\\frac{1}{36}\\sum_1^6 2i(i-1).$$ For the variance of $X$, we have $$\\mathbb{V}(X)=\\frac{1}{6}\\sum_1^6 i^2.$$ For the variance of $Y$, we obtain $$\\mathbb{V}(Y)=\\frac{1}{36}\\sum_1^6 (2i-1)i^2.$$ \n",
    "\\\n",
    "**Question 9.4)** Let $X,Y$ and $Z$ be independent random variables with the same geometric distribution $\\{q^kp\\}$. Find (a) $\\mathbb{P}(X=Y)$; (b) $\\mathbb{P}(X\\geq 2Y)$; and (c) $\\mathbb{P}(X+Y\\leq Z)$.\\\n",
    "\\\n",
    "**Answer 9.4)** (a) $$\\mathbb{P}(X=Y)=\\sum\\limits_{i=0}^\\infty \\mathbb{P}(X=Y=i)=\\sum\\limits_{i=0}^\\infty \\mathbb{P}(X=i)^2=p^2\\sum\\limits_{i=0}^\\infty (q^2)^k=\\frac{p^2}{1-q^2}.$$ (b) $$\\mathbb{P}(X\\geq 2Y)=\\sum\\limits_{i=0}^\\infty \\mathbb{P}(X>2i)\\mathbb{P}(Y=i)=\\sum\\limits_{i=0}^\\infty (q^{2i+1})q^ip=pq\\sum\\limits_{i=0}^\\infty (q^3)^i=\\frac{pq}{1-q^3}.$$ (c) $$\\mathbb{P}(X+Y\\leq Z)=\\sum\\limits_{i=0}^\\infty \\mathbb{P}(X+Y\\leq k)\\mathbb{P}(Z\\geq k)=\\sum\\limits_{i=0}^\\infty (1-\\mathbb{P}(Z\\leq i-1))\\sum\\limits_{j=0}^i \\mathbb{P}(X=j)\\mathbb{P}(Y=i-j).$$\n",
    "\\\n"
   ]
  },
  {
   "cell_type": "markdown",
   "id": "58e0c66b",
   "metadata": {},
   "source": [
    "## Hypergeometric Distribution\n",
    "In this framework, we are sampling without replacement from some population that consists of two types of objects (i.e. red vs. black balls, carp vs. non-carp, etc.). For instance, say we have $N$ fish in a lake with $R$ carp and $N-R$ non-carp fish, then we sample from this population of fish by fishing for say $n$ fish. From these $n$ fish, we are interested in the probability that $r$ of these are carp. This is given by $\\mathbb{P}(r)=\\binom{R}{r}\\binom{N-R}{n-r}/\\binom{N}{n}$.\\\n",
    "\\\n",
    "Distributional properties of the hypergeometric distribution: If we fix $N,R,$ and $n$, then we expect the following number of carp ($r$) from $n$ catches: $$\\mathbb{E}(r)=\\sum\\limits_{r=0}^Rr\\times\\mathbb{P}(R=r)=\\frac{Rn}{N}\\sum\\limits_{r=0}^R \\frac{\\binom{R-1}{r-1}\\binom{N-R}{n-r}}{\\binom{N-1}{n-1}}=\\frac{Rn}{N}$$ as $$\\sum\\limits_{r=0}^R \\binom{R-1}{r-1}\\binom{N-R}{n-r}=\\binom{N-1}{n-1}$$ by Vandermonde's identity. Similary, we can prove the second moment using the fact that $\\mathbb{E}(r^2)=\\mathbb{E}(r(r-1))+\\mathbb{E}(r)$. That is, we obtain, $$\\mathbb{E}(r^2)=\\sum\\limits_{r=0}^{R}r(r-1)\\frac{\\binom{R}{r}\\binom{N-R}{n-r}}{\\binom{N}{n}}+\\mathbb{E}(r)=\\frac{R^2\\times n\\times (n-1)}{N\\times (N-1)}.$$ On a slight tangent from deriving moments for the distribution, we'll talk about finding the mode or most probable value in the distribution. For any discrete random variable defined on some countable set $\\Omega$, the mode is defined as the point $x\\in\\Omega$ such that $P(X=x)\\geq P(X=y)$ for all other points $y\\in\\Omega$. Now, for the hypergeometric distribution, this is characterized by finding the largest $r$ such that the following holds $$\\frac{P(r)}{\\mathbb{P}(r-1)}\\geq 1\\iff \\frac{(R-r+1)(n-r+1)}{r(N-R-n+r)}\\geq 1\\iff r\\leq \\frac{(n+1)(R+1)}{N+2}\\iff M(r)=\\left\\lfloor \\frac{(n+1)(R+1)}{N+2}\\right\\rfloor.$$ We have taken the floor of the above because the fraction is not guaranteed to be an integer, and we would like the smallest of such $x$'s that still satisfy the inequality.\\\n",
    "\\\n",
    "Where did this come from: We can derive the hypergeometric distribution with the help of Baye's - $\\mathbb{P}(A|B)=\\frac{\\mathbb{P}(AB)}{\\mathbb{P}(B)}$. Let $R_i$ denote the event that the success/carp/red ball/etc. occurs on the $i$th pull and let $W_i$ denote the event that the failure/non-carp/black or white ball/etc. occurs on the $i$th pull. We can compute the probability of a sequence $(R_1R_2\\cdots R_rW_{r+1}W_{r+2}\\cdots W_n)$ taken as a sample without replacement from some population of size $N$ with $R$ \"successes\" as follows: $$\\mathbb{P}(R_1R_2\\cdots R_rW_{r+1}W_{r+2}\\cdots W_n)=\\mathbb{P}(W_{r+1}\\cdots W_n|R_1\\cdots R_r)\\mathbb{P}(R_1\\cdots R_r)=\\mathbb{P}(W_{r+1}\\cdots W_n|R_1\\cdots R_r)\\mathbb{P}(R_1)\\prod\\limits_{i=2}^r \\mathbb{P}(R_i|R_1\\cdots R_{i-1})$$ $$=\\mathbb{P}(W_{r+1}|R_1\\cdots R_r)\\prod\\limits_{i=r+1}^n \\mathbb{P}(W_i|W_{r+1}\\cdots W_{i-1}R_1\\cdots R_r)\\times \\mathbb{P}(R_1)\\prod\\limits_{i=2}^r \\mathbb{P}(R_i|R_1\\cdots R_{i-1}).$$ These conditional probabilities are very simple to compute and so the above is equivalent to $$\\mathbb{P}(R_1R_2\\cdots R_rW_{r+1}W_{r+2}\\cdots W_n)=\\frac{N-R}{N-r}\\prod\\limits_{i=r+1}^n \\frac{N-R-(i-1-r)}{N-(i-1)}\\times\\frac{R}{N}\\prod\\limits_{i=2}^r \\frac{R-(i-1)}{N-(i-1)}=\\frac{\\binom{R}{r}\\binom{N-R}{n-r}}{\\binom{N}{n}\\binom{n}{r}}.$$ Woah - we derived this expression without anything complicated and this defines a single sequence. If we exclusively care for the probability of $r$ successes instead of a specific sequence, then we note that there are $\\binom{n}{r}$ ways of rearranging the above sequence which multiplied by the probability we just derived gives us the hypergeometric!!\\\n",
    "\\\n",
    "Baye's Bullshit: This part is stupid, but for the sake of review, completion and Aditya, I carry out some light analysis of how we might use Bayesian statistics with the hypergeometric distribution. Say that we flip the above scenario - that is, we get a sample of size $n$ and we know how many carp $r$ we pulled in, and would like to estimate the population parameters ($N$ and $R$). For starters, assume that we know $N$ and are interested in $R$. When would this occur - if you know the population of a certain species and want to understand the percent that are contagious/diseased/etc., you can take a sample of the population and test for the trait/sickness and project outward for all of $N$. For a more concrete example, think about testing for Covid in poor areas where testing everyone is not feasible. Anyhow, to infer this parameter, we proceed as follows: $$\\mathbb{P}(R=R^*|N,n,r)=\\frac{\\mathbb{P}(N,n,r|R=R^*)\\mathbb{P}(R=R^*)}{\\mathbb{P}(N,n,r)}\\propto \\mathbb{P}(n,r|N,R=R^*)\\mathbb{P}(R=R^*|N)=\\frac{\\binom{R^*}{r}\\binom{N-R^*}{n-r}}{\\binom{N}{n}}\\times\\mathbb{P}(R=R^*|N).$$ From here, we must embed a judgement call for what $\\mathbb{P}(R=R^*|N)$ should follow - for us, let us assume $\\mathbb{P}(R=R^*|N)\\approx Bin(N,\\frac{1}{2})$. Then the above is proportional to $$\\binom{R^*}{r}\\binom{N-R^*}{n-r}\\binom{N}{R^*}\\left(\\frac{1}{2}\\right)^N\\times c(R^*).$$ We can express this as a density by finding $c(\\tilde{R})$, the normalizing constant, or we could just leave the above as a good estimate for relative likelihoods of $R^*$ given the data.\\\n",
    "\\"
   ]
  },
  {
   "cell_type": "markdown",
   "id": "89faa783",
   "metadata": {},
   "source": [
    "# Sources:\n",
    "* Feller\n",
    "* "
   ]
  },
  {
   "cell_type": "code",
   "execution_count": null,
   "id": "0cf9c5a5",
   "metadata": {},
   "outputs": [],
   "source": []
  }
 ],
 "metadata": {
  "kernelspec": {
   "display_name": "Python 3 (ipykernel)",
   "language": "python",
   "name": "python3"
  },
  "language_info": {
   "codemirror_mode": {
    "name": "ipython",
    "version": 3
   },
   "file_extension": ".py",
   "mimetype": "text/x-python",
   "name": "python",
   "nbconvert_exporter": "python",
   "pygments_lexer": "ipython3",
   "version": "3.9.6"
  }
 },
 "nbformat": 4,
 "nbformat_minor": 5
}
