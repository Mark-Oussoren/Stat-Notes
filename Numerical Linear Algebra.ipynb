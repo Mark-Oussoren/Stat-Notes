{
 "cells": [
  {
   "cell_type": "markdown",
   "id": "72065671",
   "metadata": {},
   "source": [
    "# Numerical Linear Algebra\n",
    "\n",
    "The goal of this section is to gain comfortability with a lot of the decomposition techniques and other linear algebra tricks very common in ML literature and algorithms. I plan on implementing the algorithms, testing applications, and doing theoretical problems from a select few books on the subject - most notably stemming from \"Scientific Computing: An Introductory Survey\" by Heath. \n",
    "\n",
    "## Exposition\n",
    "\n",
    "asdf"
   ]
  },
  {
   "cell_type": "markdown",
   "id": "e1548e7f",
   "metadata": {},
   "source": [
    "## Definitions\n",
    "\n",
    "asdf"
   ]
  },
  {
   "cell_type": "markdown",
   "id": "ff8aadac",
   "metadata": {},
   "source": [
    "## Algorithm Implementation and Testing\n",
    "\n",
    "asdf"
   ]
  },
  {
   "cell_type": "markdown",
   "id": "edabbc6e",
   "metadata": {},
   "source": [
    "## Theoretical Exercises\n",
    "\n",
    "asdf"
   ]
  },
  {
   "cell_type": "markdown",
   "id": "6c69a0d5",
   "metadata": {},
   "source": [
    "## Coding Exercises\n",
    "\n",
    "asdf"
   ]
  },
  {
   "cell_type": "markdown",
   "id": "83379920",
   "metadata": {},
   "source": [
    "# Sources\n",
    "\n",
    "- \"Scientific Computing: An Introductory Survey\" by Heath\n"
   ]
  }
 ],
 "metadata": {
  "kernelspec": {
   "display_name": "Python 3 (ipykernel)",
   "language": "python",
   "name": "python3"
  },
  "language_info": {
   "codemirror_mode": {
    "name": "ipython",
    "version": 3
   },
   "file_extension": ".py",
   "mimetype": "text/x-python",
   "name": "python",
   "nbconvert_exporter": "python",
   "pygments_lexer": "ipython3",
   "version": "3.9.6"
  }
 },
 "nbformat": 4,
 "nbformat_minor": 5
}
