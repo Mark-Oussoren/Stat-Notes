{
 "cells": [
  {
   "cell_type": "markdown",
   "id": "dc7531cb",
   "metadata": {},
   "source": [
    "# Notebook for Research on Last Iterate of SGD Step Size Regimes\n",
    "\n",
    "This notebook will go over the work of Jain et al, 2019 - included in the sources at the bottom of the notebook."
   ]
  },
  {
   "cell_type": "code",
   "execution_count": 1,
   "id": "14d98e79",
   "metadata": {},
   "outputs": [],
   "source": [
    "import cvxpy as cp\n",
    "import math\n",
    "import matplotlib as mpl\n",
    "import matplotlib.pyplot as plt\n",
    "import numpy as np\n",
    "import seaborn as sns\n",
    "import time\n",
    "from matplotlib.animation import FuncAnimation\n",
    "\n",
    "from IPython.core.display import Image, display\n",
    "from mpl_toolkits.mplot3d import Axes3D\n",
    "\n",
    "# Set plotting font sizes and properties\n",
    "TINY_SIZE = 12\n",
    "SMALL_SIZE = 12\n",
    "MEDIUM_SIZE = 14\n",
    "BIGGER_SIZE = 20\n",
    "MARKER_SIZE = 6\n",
    "LINE_SIZE = 4\n",
    "\n",
    "plt.rc(\"font\", size=SMALL_SIZE)  # controls default text sizes\n",
    "plt.rc(\"axes\", titlesize=BIGGER_SIZE)  # fontsize of the axes title\n",
    "plt.rc(\"axes\", labelsize=MEDIUM_SIZE)  # fontsize of the x and y labels\n",
    "plt.rc(\"xtick\", labelsize=SMALL_SIZE)  # fontsize of the tick labels\n",
    "plt.rc(\"ytick\", labelsize=SMALL_SIZE)  # fontsize of the tick labels\n",
    "plt.rc(\"legend\", fontsize=TINY_SIZE)  # legend fontsize\n",
    "plt.rc(\"figure\", titlesize=BIGGER_SIZE)  # fontsize of the figure title\n",
    "plt.rc(\"lines\", markersize=MARKER_SIZE)  # marker size\n",
    "plt.rc(\"lines\", linewidth=LINE_SIZE)  # line width\n",
    "mpl.rcParams['text.usetex'] = True\n",
    "mpl.rcParams['text.latex.preamble'] = r'\\usepackage{amsmath}'\n",
    "\n",
    "mpl.rcParams[\"figure.dpi\"] = 180 # sets the image quality\n",
    "\n",
    "# Height and width per row and column of subplots\n",
    "FIG_HEIGHT = 18\n",
    "FIG_WIDTH = 16\n",
    "fig_fcn = lambda kwargs: plt.figure(figsize=(FIG_WIDTH, FIG_HEIGHT), **kwargs)\n",
    "color_list = sns.color_palette(\"Paired\")"
   ]
  },
  {
   "cell_type": "markdown",
   "id": "3d6fc0a9",
   "metadata": {},
   "source": [
    "# Demystifying the Step Size Regime\n",
    "\n",
    "Assuming we know $T$, the number of iterations to reach $\\epsilon$-accuracy in advance, then Jain et al considers the following step size regime. \n",
    "\n",
    "First define \n",
    "\n",
    "$$k=\\inf\\left\\{i: \\frac{T}{2^i}\\leq 1\\right\\}$$\n",
    "\n",
    "and \n",
    "\n",
    "$$T_i=T - \\left\\lceil \\frac{T}{2^i}\\right\\rceil$$\n",
    "\n",
    "for $i\\in[k]$ and denote $T_{k+1}=T$. From here, consider some arbitrary constant $C>0$. Then the step size considered here is given by for $t\\in[T]$,\n",
    "\n",
    "$$\\alpha_t = \\frac{C}{\\sqrt{t}}\\cdot\\frac{1}{2^i}$$\n",
    "\n",
    "for $t\\geq T_i$ and $t\\leq T_{i+1}$. This sequence generates a decaying step size ranging from $\\frac{C}{\\sqrt{T}}$ initially to $\\frac{C}{T}$ at the penultimate regime. Let us visualize this regime below setting $C=1$ and $T=1000$."
   ]
  },
  {
   "cell_type": "code",
   "execution_count": 2,
   "id": "93a52602",
   "metadata": {},
   "outputs": [],
   "source": [
    "def jain_stepsize(T, C):\n",
    "    \"\"\"Returns the step-size sequence described in Jain et al 2019\n",
    "    for the final iterate of SGD\n",
    "    :param: T - natural number, denotes the number of iterations for epsilon-accuracy in SGD\n",
    "    :param: C - positive float, denotes an arbitrary tuning param\n",
    "    :return array of step-sizes at each time i between 1 and T\n",
    "    \"\"\"\n",
    "    k = 1\n",
    "    while T > 2**k:\n",
    "        k += 1\n",
    "    T_set = [T - np.ceil(T / 2**i) for i in range(k+1)]\n",
    "    alphas = []\n",
    "    for t in range(1, T+1):\n",
    "        # this grabs where in T_i that t is <= T_i+1 and >= T_i\n",
    "        i = np.searchsorted(T_set, t) - 1\n",
    "        alpha_t = C / (np.sqrt(T) * 2**i)\n",
    "        alphas.append(alpha_t)\n",
    "        \n",
    "    return T_set, alphas"
   ]
  },
  {
   "cell_type": "code",
   "execution_count": 3,
   "id": "eb122a73",
   "metadata": {},
   "outputs": [],
   "source": [
    "T_set, step_sizes = jain_stepsize(1000, 1)"
   ]
  },
  {
   "cell_type": "code",
   "execution_count": 12,
   "id": "9868c327",
   "metadata": {},
   "outputs": [
    {
     "data": {
      "image/png": "[encoded data removed]",
      "text/plain": [
       "<Figure size 1080x720 with 1 Axes>"
      ]
     },
     "metadata": {
      "needs_background": "light"
     },
     "output_type": "display_data"
    }
   ],
   "source": [
    "x = np.linspace(0, 1000, 1000)\n",
    "#plt.scatter(x, step_sizes, color='purple', s=1)\n",
    "plt.plot(x, (1.009 / np.sqrt(1000)) * np.ones(1000), color='black', ls='--', dashes=(3, 3), lw=1)\n",
    "plt.xlabel(\"$t$\")\n",
    "plt.ylabel(r\"$\\alpha (t)$\")\n",
    "plt.text(800, 0.0295, r\"$\\frac{C}{\\sqrt{T}}$\", fontsize=14, color=\"black\")\n",
    "# add vlines for each of the T_i\n",
    "for i in range(len(T_set[:5])):\n",
    "    plt.scatter(x[int(T_set[i]):int(T_set[i+1])], step_sizes[int(T_set[i]):int(T_set[i+1])], color='black', s=1)\n",
    "    plt.fill_between(x[int(T_set[i]):int(T_set[i+1])], step_sizes[int(T_set[i]):int(T_set[i+1])], alpha=0.3)\n",
    "    \n",
    "    # find area \n",
    "    y_range = step_sizes[int(T_set[i])]\n",
    "    if i != 4 and i != 3:\n",
    "        plt.text(T_set[i] + 5, y_range / 2, fr\"$T_{i}$\", fontsize=12, color=\"black\")\n",
    "    if i == 3:\n",
    "        plt.text(T_set[i] + 5, y_range / 2 - 0.0006, fr\"$T_{i}$\", fontsize=12, color=\"black\")\n",
    "    if i == 4:\n",
    "        plt.text(T_set[i] + 5, y_range / 2 - 0.0003, fr\"$T_{i}$\", fontsize=5, color=\"black\")\n",
    "    \n",
    "plt.savefig('alpha.png', dpi=450)"
   ]
  },
  {
   "cell_type": "markdown",
   "id": "4a5bee43",
   "metadata": {},
   "source": [
    "# Bibliography\n",
    "\n",
    "Main work - Jain et al, 2019: https://arxiv.org/pdf/1904.12443.pdf\n",
    "\n"
   ]
  }
 ],
 "metadata": {
  "kernelspec": {
   "display_name": "Python 3 (ipykernel)",
   "language": "python",
   "name": "python3"
  },
  "language_info": {
   "codemirror_mode": {
    "name": "ipython",
    "version": 3
   },
   "file_extension": ".py",
   "mimetype": "text/x-python",
   "name": "python",
   "nbconvert_exporter": "python",
   "pygments_lexer": "ipython3",
   "version": "3.9.10"
  }
 },
 "nbformat": 4,
 "nbformat_minor": 5
}
