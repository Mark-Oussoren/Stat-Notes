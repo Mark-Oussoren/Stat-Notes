{
 "cells": [
  {
   "cell_type": "markdown",
   "id": "2215e205",
   "metadata": {},
   "source": [
    "# Concentration Inequalities\n",
    "\n",
    "This notebook is dedicated to working through problems on concentration inequalities which more or less revolve around sums of independent random variables. \n",
    "\n",
    "I believe the layout of this notebook will be as follows: 1) I will first provide the inequalities, definitions, theorems and main results in Markdown - just the basics and sentences explaining them in english coupled with worked out solutions to the book problems of \"Concentration Inequalities\" by Boucheron et al.\n",
    "\n",
    "# Sums of Indendent Random Variables & the Martingale Method\n",
    "\n",
    "## Review of Independence\n",
    "\n",
    "Here I would like to touch on measure-theoretic definitions motivating what independent random variables actually imply. As with Kolmogorov, I first discuss the concept of independent sets, $\\sigma$-algebra, and finally random variables.\n",
    "\n",
    "**Definition**: Let $(\\Omega,\\mathcal{F},\\mathbb{P})$ be a probability space with $\\{\\mathcal{F}_i\\}_{i\\in\\mathcal{I}}\\;$  denoting sub $\\sigma$-algebras of $\\mathcal{F}$. We say that the $\\sigma$-algebras $\\mathcal{F}_i$, $i\\in\\mathcal{I}$ are mutually $\\mathbb{P}$-independent if for every finite subset $\\{i_1,\\dots,i_n\\}$ of $\\underline{distinct}$ elements of $\\mathcal{I}$ and every choice of sets $A_{i_k}\\in\\mathcal{F}_{i_k}$ for $k\\in[n]$, we have\n",
    "\n",
    "$$\\mathbb{P}\\left(\\bigcap\\limits_{k=1}^n A_{i_k}\\right)=\\prod\\limits_{k=1}^n \\mathbb{P}\\left(A_{i_k}\\right).$$\n",
    "\n",
    "In particular, if $\\left\\{A_i: i\\in\\mathcal{I}\\right\\}$ is a family of sets in $\\mathcal{F}$, then we say $A_i$, $i\\in\\mathcal{I}$ are $\\mathbb{P}$-independent if the associated $\\sigma$-algebras: $\\mathcal{F}_i=\\left\\{\\emptyset, A_i,A_i^c,\\Omega\\right\\}$, $i\\in\\mathcal{I}$, are.\n",
    "\n",
    "Now as random variables are measurable functions on $(\\Omega,\\mathcal{F})$ taking values in a measure space $(E_i,\\mathcal{B}_i)$, we can express the definition of independent random variables by proving independence of their pull-back $\\sigma$-algebras.\n",
    "\n",
    "**Definition**: We say that the random variables $X_i$, $i\\in\\mathcal{I}$ are mutually $\\mathbb{P}$-independent if the $\\sigma$-algebras \n",
    "\n",
    "$$\\sigma(X_i)=\\left\\{X_i^{-1}(B_i):B_i\\in\\mathcal{B}_i\\right\\},\\;\\;\\;i\\in\\mathcal{I}$$\n",
    "\n",
    "are $\\mathbb{P}$-independent. \n",
    "\n"
   ]
  },
  {
   "cell_type": "markdown",
   "id": "914ccd79",
   "metadata": {},
   "source": [
    "# Problems\n",
    "\n"
   ]
  },
  {
   "cell_type": "markdown",
   "id": "eaaf71d3",
   "metadata": {},
   "source": [
    "# Sources\n",
    "\n",
    "- \"Concentration Inequalities\" by Boucheron, Lugosi, Massar"
   ]
  }
 ],
 "metadata": {
  "kernelspec": {
   "display_name": "Python 3 (ipykernel)",
   "language": "python",
   "name": "python3"
  },
  "language_info": {
   "codemirror_mode": {
    "name": "ipython",
    "version": 3
   },
   "file_extension": ".py",
   "mimetype": "text/x-python",
   "name": "python",
   "nbconvert_exporter": "python",
   "pygments_lexer": "ipython3",
   "version": "3.9.10"
  }
 },
 "nbformat": 4,
 "nbformat_minor": 5
}
