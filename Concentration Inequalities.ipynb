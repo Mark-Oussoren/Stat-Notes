{
 "cells": [
  {
   "cell_type": "markdown",
   "id": "1ecec06c",
   "metadata": {},
   "source": [
    "# Concentration Inequalities\n",
    "\n",
    "This notebook is dedicated to working through problems on concentration inequalities which more or less revolve around sums of independent random variables. \n",
    "\n",
    "I believe the layout of this notebook will be as follows: 1) I will first provide the inequalities, definitions, theorems and main results in Markdown - just the basics and sentences explaining them in english coupled with worked out solutions to the book problems of \"Concentration Inequalities\" by Boucheron et al.\n",
    "\n",
    "#"
   ]
  },
  {
   "cell_type": "markdown",
   "id": "48683a54",
   "metadata": {},
   "source": [
    "# Problems\n",
    "\n"
   ]
  },
  {
   "cell_type": "markdown",
   "id": "082de1a1",
   "metadata": {},
   "source": [
    "# Sources\n",
    "\n",
    "- \"Concentration Inequalities\" by Boucheron, Lugosi, Massar"
   ]
  }
 ],
 "metadata": {
  "kernelspec": {
   "display_name": "Python 3 (ipykernel)",
   "language": "python",
   "name": "python3"
  },
  "language_info": {
   "codemirror_mode": {
    "name": "ipython",
    "version": 3
   },
   "file_extension": ".py",
   "mimetype": "text/x-python",
   "name": "python",
   "nbconvert_exporter": "python",
   "pygments_lexer": "ipython3",
   "version": "3.9.10"
  }
 },
 "nbformat": 4,
 "nbformat_minor": 5
}
