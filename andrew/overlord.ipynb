{
 "cells": [
  {
   "cell_type": "code",
   "execution_count": 25,
   "metadata": {},
   "outputs": [],
   "source": [
    "import numpy as np\n",
    "import matplotlib as plt\n",
    "import pandas as pd\n",
    "import os\n",
    "import seaborn as sns"
   ]
  },
  {
   "cell_type": "code",
   "execution_count": 5,
   "metadata": {},
   "outputs": [],
   "source": [
    "os. getcwd()\n",
    "path = os. getcwd()"
   ]
  },
  {
   "cell_type": "code",
   "execution_count": 6,
   "metadata": {},
   "outputs": [],
   "source": [
    "data1 = pd.read_csv(path + '/data/texas_counties1.csv')\n",
    "data2 = pd.read_csv(path + '/data/texas_counties2.csv')\n",
    "data3 = pd.read_csv(path + '/data/texas_counties3.csv')"
   ]
  },
  {
   "cell_type": "code",
   "execution_count": 7,
   "metadata": {},
   "outputs": [
    {
     "name": "stdout",
     "output_type": "stream",
     "text": [
      "<class 'pandas.core.frame.DataFrame'>\n",
      "Int64Index: 7290 entries, 0 to 2428\n",
      "Data columns (total 9 columns):\n",
      " #   Column           Non-Null Count  Dtype  \n",
      "---  ------           --------------  -----  \n",
      " 0   Unnamed: 0       7290 non-null   int64  \n",
      " 1   date             7290 non-null   object \n",
      " 2   sales            7288 non-null   object \n",
      " 3   dollar_vol       7288 non-null   object \n",
      " 4   avg_price        7288 non-null   object \n",
      " 5   med_price        7288 non-null   object \n",
      " 6   total_listings   5130 non-null   object \n",
      " 7   month_inventory  5130 non-null   float64\n",
      " 8   county           7290 non-null   object \n",
      "dtypes: float64(1), int64(1), object(7)\n",
      "memory usage: 569.5+ KB\n"
     ]
    }
   ],
   "source": [
    "frames = [data1,data2,data3]\n",
    "master = pd.concat(frames)\n",
    "master.describe()\n",
    "master.info()"
   ]
  },
  {
   "cell_type": "code",
   "execution_count": 8,
   "metadata": {},
   "outputs": [
    {
     "data": {
      "text/html": [
       "<div>\n",
       "<style scoped>\n",
       "    .dataframe tbody tr th:only-of-type {\n",
       "        vertical-align: middle;\n",
       "    }\n",
       "\n",
       "    .dataframe tbody tr th {\n",
       "        vertical-align: top;\n",
       "    }\n",
       "\n",
       "    .dataframe thead th {\n",
       "        text-align: right;\n",
       "    }\n",
       "</style>\n",
       "<table border=\"1\" class=\"dataframe\">\n",
       "  <thead>\n",
       "    <tr style=\"text-align: right;\">\n",
       "      <th></th>\n",
       "      <th>Unnamed: 0</th>\n",
       "      <th>date</th>\n",
       "      <th>sales</th>\n",
       "      <th>dollar_vol</th>\n",
       "      <th>avg_price</th>\n",
       "      <th>med_price</th>\n",
       "      <th>total_listings</th>\n",
       "      <th>month_inventory</th>\n",
       "      <th>county</th>\n",
       "    </tr>\n",
       "  </thead>\n",
       "  <tbody>\n",
       "    <tr>\n",
       "      <th>0</th>\n",
       "      <td>0</td>\n",
       "      <td>Jan 2011</td>\n",
       "      <td>15</td>\n",
       "      <td>1,122,600</td>\n",
       "      <td>74,840</td>\n",
       "      <td>50,000</td>\n",
       "      <td>344</td>\n",
       "      <td>31.0</td>\n",
       "      <td>Anderson</td>\n",
       "    </tr>\n",
       "    <tr>\n",
       "      <th>1</th>\n",
       "      <td>1</td>\n",
       "      <td>Feb 2011</td>\n",
       "      <td>20</td>\n",
       "      <td>1,652,300</td>\n",
       "      <td>82,615</td>\n",
       "      <td>66,950</td>\n",
       "      <td>371</td>\n",
       "      <td>30.1</td>\n",
       "      <td>Anderson</td>\n",
       "    </tr>\n",
       "    <tr>\n",
       "      <th>2</th>\n",
       "      <td>2</td>\n",
       "      <td>Mar 2011</td>\n",
       "      <td>25</td>\n",
       "      <td>3,013,550</td>\n",
       "      <td>120,542</td>\n",
       "      <td>92,000</td>\n",
       "      <td>372</td>\n",
       "      <td>27.1</td>\n",
       "      <td>Anderson</td>\n",
       "    </tr>\n",
       "    <tr>\n",
       "      <th>3</th>\n",
       "      <td>3</td>\n",
       "      <td>Apr 2011</td>\n",
       "      <td>25</td>\n",
       "      <td>2,733,350</td>\n",
       "      <td>109,334</td>\n",
       "      <td>115,000</td>\n",
       "      <td>365</td>\n",
       "      <td>24.1</td>\n",
       "      <td>Anderson</td>\n",
       "    </tr>\n",
       "    <tr>\n",
       "      <th>4</th>\n",
       "      <td>4</td>\n",
       "      <td>May 2011</td>\n",
       "      <td>27</td>\n",
       "      <td>2,239,161</td>\n",
       "      <td>82,932</td>\n",
       "      <td>70,000</td>\n",
       "      <td>387</td>\n",
       "      <td>23.8</td>\n",
       "      <td>Anderson</td>\n",
       "    </tr>\n",
       "  </tbody>\n",
       "</table>\n",
       "</div>"
      ],
      "text/plain": [
       "   Unnamed: 0      date sales dollar_vol avg_price med_price total_listings  \\\n",
       "0           0  Jan 2011    15  1,122,600    74,840    50,000            344   \n",
       "1           1  Feb 2011    20  1,652,300    82,615    66,950            371   \n",
       "2           2  Mar 2011    25  3,013,550   120,542    92,000            372   \n",
       "3           3  Apr 2011    25  2,733,350   109,334   115,000            365   \n",
       "4           4  May 2011    27  2,239,161    82,932    70,000            387   \n",
       "\n",
       "   month_inventory    county  \n",
       "0             31.0  Anderson  \n",
       "1             30.1  Anderson  \n",
       "2             27.1  Anderson  \n",
       "3             24.1  Anderson  \n",
       "4             23.8  Anderson  "
      ]
     },
     "execution_count": 8,
     "metadata": {},
     "output_type": "execute_result"
    }
   ],
   "source": [
    "master.head()"
   ]
  },
  {
   "cell_type": "code",
   "execution_count": 9,
   "metadata": {},
   "outputs": [
    {
     "data": {
      "text/plain": [
       "array([  0,   1,   2,   3,   4,   5,   6,   7,   8,   9,  10,  11,  12,\n",
       "        13,  14,  15,  16,  17,  18,  19,  20,  21,  22,  23,  24,  25,\n",
       "        26,  27,  28,  29,  30,  31,  32,  33,  34,  35,  36,  37,  38,\n",
       "        39,  40,  41,  42,  43,  44,  45,  46,  47,  48,  49,  50,  51,\n",
       "        52,  53,  54,  55,  56,  57,  58,  59,  60,  61,  62,  63,  64,\n",
       "        65,  66,  67,  68,  69,  70,  71,  72,  73,  74,  75,  76,  77,\n",
       "        78,  79,  80,  81,  82,  83,  84,  85,  86,  87,  88,  89,  90,\n",
       "        91,  92,  93,  94,  95,  96,  97,  98,  99, 100, 101, 102, 103,\n",
       "       104, 105, 106, 107, 108, 109, 110, 111, 112, 113, 114, 115, 116,\n",
       "       117, 118, 119, 120, 121, 122, 123, 124, 125, 126, 127])"
      ]
     },
     "execution_count": 9,
     "metadata": {},
     "output_type": "execute_result"
    }
   ],
   "source": [
    "master['Unnamed: 0'].unique()"
   ]
  },
  {
   "cell_type": "code",
   "execution_count": 10,
   "metadata": {},
   "outputs": [
    {
     "data": {
      "text/plain": [
       "0       Jan 2011\n",
       "1       Feb 2011\n",
       "2       Mar 2011\n",
       "3       Apr 2011\n",
       "4       May 2011\n",
       "          ...   \n",
       "2424    Mar 2021\n",
       "2425    Apr 2021\n",
       "2426    May 2021\n",
       "2427    Jun 2021\n",
       "2428    Jul 2021\n",
       "Name: date, Length: 7290, dtype: object"
      ]
     },
     "execution_count": 10,
     "metadata": {},
     "output_type": "execute_result"
    }
   ],
   "source": [
    "master['date']"
   ]
  },
  {
   "cell_type": "code",
   "execution_count": 11,
   "metadata": {},
   "outputs": [],
   "source": [
    "#remove 'Unnamed:0' column as it simply is another index for the month\n",
    "master = master.drop(columns='Unnamed: 0')\n",
    "\n",
    "#convert date column to datetime format & sort\n",
    "master['date'] = pd.to_datetime(master['date'])"
   ]
  },
  {
   "cell_type": "code",
   "execution_count": 12,
   "metadata": {},
   "outputs": [
    {
     "data": {
      "text/html": [
       "<div>\n",
       "<style scoped>\n",
       "    .dataframe tbody tr th:only-of-type {\n",
       "        vertical-align: middle;\n",
       "    }\n",
       "\n",
       "    .dataframe tbody tr th {\n",
       "        vertical-align: top;\n",
       "    }\n",
       "\n",
       "    .dataframe thead th {\n",
       "        text-align: right;\n",
       "    }\n",
       "</style>\n",
       "<table border=\"1\" class=\"dataframe\">\n",
       "  <thead>\n",
       "    <tr style=\"text-align: right;\">\n",
       "      <th></th>\n",
       "      <th>date</th>\n",
       "      <th>sales</th>\n",
       "      <th>dollar_vol</th>\n",
       "      <th>avg_price</th>\n",
       "      <th>med_price</th>\n",
       "      <th>total_listings</th>\n",
       "      <th>month_inventory</th>\n",
       "      <th>county</th>\n",
       "    </tr>\n",
       "  </thead>\n",
       "  <tbody>\n",
       "    <tr>\n",
       "      <th>0</th>\n",
       "      <td>2011-01-01</td>\n",
       "      <td>15</td>\n",
       "      <td>1,122,600</td>\n",
       "      <td>74,840</td>\n",
       "      <td>50,000</td>\n",
       "      <td>344</td>\n",
       "      <td>31.0</td>\n",
       "      <td>Anderson</td>\n",
       "    </tr>\n",
       "    <tr>\n",
       "      <th>1664</th>\n",
       "      <td>2011-01-01</td>\n",
       "      <td>37</td>\n",
       "      <td>4,405,050</td>\n",
       "      <td>119,055</td>\n",
       "      <td>107,500</td>\n",
       "      <td>NaN</td>\n",
       "      <td>NaN</td>\n",
       "      <td>Coryell</td>\n",
       "    </tr>\n",
       "    <tr>\n",
       "      <th>767</th>\n",
       "      <td>2011-01-01</td>\n",
       "      <td>1,984</td>\n",
       "      <td>366,152,263</td>\n",
       "      <td>184,553</td>\n",
       "      <td>123,250</td>\n",
       "      <td>NaN</td>\n",
       "      <td>NaN</td>\n",
       "      <td>Harris</td>\n",
       "    </tr>\n",
       "    <tr>\n",
       "      <th>1536</th>\n",
       "      <td>2011-01-01</td>\n",
       "      <td>72</td>\n",
       "      <td>16,445,947</td>\n",
       "      <td>228,416</td>\n",
       "      <td>203,500</td>\n",
       "      <td>NaN</td>\n",
       "      <td>NaN</td>\n",
       "      <td>Comal</td>\n",
       "    </tr>\n",
       "    <tr>\n",
       "      <th>894</th>\n",
       "      <td>2011-01-01</td>\n",
       "      <td>64</td>\n",
       "      <td>10,603,874</td>\n",
       "      <td>165,686</td>\n",
       "      <td>146,000</td>\n",
       "      <td>NaN</td>\n",
       "      <td>NaN</td>\n",
       "      <td>Hays</td>\n",
       "    </tr>\n",
       "    <tr>\n",
       "      <th>...</th>\n",
       "      <td>...</td>\n",
       "      <td>...</td>\n",
       "      <td>...</td>\n",
       "      <td>...</td>\n",
       "      <td>...</td>\n",
       "      <td>...</td>\n",
       "      <td>...</td>\n",
       "      <td>...</td>\n",
       "    </tr>\n",
       "    <tr>\n",
       "      <th>127</th>\n",
       "      <td>2021-08-01</td>\n",
       "      <td>48</td>\n",
       "      <td>10,438,222</td>\n",
       "      <td>217,463</td>\n",
       "      <td>172,500</td>\n",
       "      <td>89</td>\n",
       "      <td>2.4</td>\n",
       "      <td>Anderson</td>\n",
       "    </tr>\n",
       "    <tr>\n",
       "      <th>2431</th>\n",
       "      <td>2021-08-01</td>\n",
       "      <td>312</td>\n",
       "      <td>115,686,454</td>\n",
       "      <td>370,790</td>\n",
       "      <td>345,140</td>\n",
       "      <td>362</td>\n",
       "      <td>1.3</td>\n",
       "      <td>Ellis</td>\n",
       "    </tr>\n",
       "    <tr>\n",
       "      <th>2301</th>\n",
       "      <td>2021-08-01</td>\n",
       "      <td>264</td>\n",
       "      <td>99,587,752</td>\n",
       "      <td>377,226</td>\n",
       "      <td>305,000</td>\n",
       "      <td>732</td>\n",
       "      <td>3.0</td>\n",
       "      <td>Midland</td>\n",
       "    </tr>\n",
       "    <tr>\n",
       "      <th>1149</th>\n",
       "      <td>2021-08-01</td>\n",
       "      <td>388</td>\n",
       "      <td>83,761,348</td>\n",
       "      <td>215,880</td>\n",
       "      <td>190,000</td>\n",
       "      <td>804</td>\n",
       "      <td>2.3</td>\n",
       "      <td>Hidalgo</td>\n",
       "    </tr>\n",
       "    <tr>\n",
       "      <th>638</th>\n",
       "      <td>2021-08-01</td>\n",
       "      <td>245</td>\n",
       "      <td>70,437,150</td>\n",
       "      <td>287,499</td>\n",
       "      <td>257,700</td>\n",
       "      <td>400</td>\n",
       "      <td>1.9</td>\n",
       "      <td>Grayson</td>\n",
       "    </tr>\n",
       "  </tbody>\n",
       "</table>\n",
       "<p>7290 rows × 8 columns</p>\n",
       "</div>"
      ],
      "text/plain": [
       "           date  sales   dollar_vol avg_price med_price total_listings  \\\n",
       "0    2011-01-01     15    1,122,600    74,840    50,000            344   \n",
       "1664 2011-01-01     37    4,405,050   119,055   107,500            NaN   \n",
       "767  2011-01-01  1,984  366,152,263   184,553   123,250            NaN   \n",
       "1536 2011-01-01     72   16,445,947   228,416   203,500            NaN   \n",
       "894  2011-01-01     64   10,603,874   165,686   146,000            NaN   \n",
       "...         ...    ...          ...       ...       ...            ...   \n",
       "127  2021-08-01     48   10,438,222   217,463   172,500             89   \n",
       "2431 2021-08-01    312  115,686,454   370,790   345,140            362   \n",
       "2301 2021-08-01    264   99,587,752   377,226   305,000            732   \n",
       "1149 2021-08-01    388   83,761,348   215,880   190,000            804   \n",
       "638  2021-08-01    245   70,437,150   287,499   257,700            400   \n",
       "\n",
       "      month_inventory    county  \n",
       "0                31.0  Anderson  \n",
       "1664              NaN   Coryell  \n",
       "767               NaN    Harris  \n",
       "1536              NaN     Comal  \n",
       "894               NaN      Hays  \n",
       "...               ...       ...  \n",
       "127               2.4  Anderson  \n",
       "2431              1.3     Ellis  \n",
       "2301              3.0   Midland  \n",
       "1149              2.3   Hidalgo  \n",
       "638               1.9   Grayson  \n",
       "\n",
       "[7290 rows x 8 columns]"
      ]
     },
     "execution_count": 12,
     "metadata": {},
     "output_type": "execute_result"
    }
   ],
   "source": [
    "master.sort_values(by = 'date')"
   ]
  },
  {
   "cell_type": "code",
   "execution_count": 17,
   "metadata": {},
   "outputs": [
    {
     "data": {
      "text/plain": [
       "True"
      ]
     },
     "execution_count": 17,
     "metadata": {},
     "output_type": "execute_result"
    }
   ],
   "source": [
    "#probabilistic PCA to infer NaN values\n",
    "master[['total_listings','month_inventory']].isnull().values.any()"
   ]
  },
  {
   "cell_type": "code",
   "execution_count": 26,
   "metadata": {},
   "outputs": [
    {
     "data": {
      "text/plain": [
       "<bound method DataFrame.info of            date  sales   dollar_vol avg_price med_price total_listings  \\\n",
       "0    2011-01-01     15    1,122,600    74,840    50,000            344   \n",
       "1    2011-02-01     20    1,652,300    82,615    66,950            371   \n",
       "2    2011-03-01     25    3,013,550   120,542    92,000            372   \n",
       "3    2011-04-01     25    2,733,350   109,334   115,000            365   \n",
       "4    2011-05-01     27    2,239,161    82,932    70,000            387   \n",
       "...         ...    ...          ...       ...       ...            ...   \n",
       "2424 2021-03-01  1,447  542,948,174   375,223   300,000          1,462   \n",
       "2425 2021-04-01  1,383  546,395,785   395,080   307,194          1,379   \n",
       "2426 2021-05-01  1,505  589,443,326   391,657   311,340          1,363   \n",
       "2427 2021-06-01  1,547  641,243,406   414,508   320,000          1,577   \n",
       "2428 2021-07-01  1,489  621,533,727   417,417   333,500          2,030   \n",
       "\n",
       "      month_inventory      county  \n",
       "0                31.0    Anderson  \n",
       "1                30.1    Anderson  \n",
       "2                27.1    Anderson  \n",
       "3                24.1    Anderson  \n",
       "4                23.8    Anderson  \n",
       "...               ...         ...  \n",
       "2424              1.2  Montgomery  \n",
       "2425              1.1  Montgomery  \n",
       "2426              1.1  Montgomery  \n",
       "2427              1.2  Montgomery  \n",
       "2428              1.6  Montgomery  \n",
       "\n",
       "[7290 rows x 8 columns]>"
      ]
     },
     "execution_count": 26,
     "metadata": {},
     "output_type": "execute_result"
    }
   ],
   "source": [
    "master.drop(['total_listings','month_inventory'], axis=1)\n",
    "master.info"
   ]
  },
  {
   "cell_type": "code",
   "execution_count": 27,
   "metadata": {},
   "outputs": [
    {
     "data": {
      "text/plain": [
       "<bound method DataFrame.info of            date  sales   dollar_vol avg_price med_price total_listings  \\\n",
       "0    2011-01-01     15    1,122,600    74,840    50,000            344   \n",
       "1    2011-02-01     20    1,652,300    82,615    66,950            371   \n",
       "2    2011-03-01     25    3,013,550   120,542    92,000            372   \n",
       "3    2011-04-01     25    2,733,350   109,334   115,000            365   \n",
       "4    2011-05-01     27    2,239,161    82,932    70,000            387   \n",
       "...         ...    ...          ...       ...       ...            ...   \n",
       "2424 2021-03-01  1,447  542,948,174   375,223   300,000          1,462   \n",
       "2425 2021-04-01  1,383  546,395,785   395,080   307,194          1,379   \n",
       "2426 2021-05-01  1,505  589,443,326   391,657   311,340          1,363   \n",
       "2427 2021-06-01  1,547  641,243,406   414,508   320,000          1,577   \n",
       "2428 2021-07-01  1,489  621,533,727   417,417   333,500          2,030   \n",
       "\n",
       "      month_inventory      county  \n",
       "0                31.0    Anderson  \n",
       "1                30.1    Anderson  \n",
       "2                27.1    Anderson  \n",
       "3                24.1    Anderson  \n",
       "4                23.8    Anderson  \n",
       "...               ...         ...  \n",
       "2424              1.2  Montgomery  \n",
       "2425              1.1  Montgomery  \n",
       "2426              1.1  Montgomery  \n",
       "2427              1.2  Montgomery  \n",
       "2428              1.6  Montgomery  \n",
       "\n",
       "[7290 rows x 8 columns]>"
      ]
     },
     "execution_count": 27,
     "metadata": {},
     "output_type": "execute_result"
    }
   ],
   "source": [
    "master.info"
   ]
  },
  {
   "cell_type": "code",
   "execution_count": null,
   "metadata": {},
   "outputs": [],
   "source": [
    "#"
   ]
  }
 ],
 "metadata": {
  "kernelspec": {
   "display_name": "Python 3",
   "language": "python",
   "name": "python3"
  },
  "language_info": {
   "codemirror_mode": {
    "name": "ipython",
    "version": 3
   },
   "file_extension": ".py",
   "mimetype": "text/x-python",
   "name": "python",
   "nbconvert_exporter": "python",
   "pygments_lexer": "ipython3",
   "version": "3.8.3"
  }
 },
 "nbformat": 4,
 "nbformat_minor": 4
}
