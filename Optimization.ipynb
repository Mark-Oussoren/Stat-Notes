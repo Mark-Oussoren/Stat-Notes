{
 "cells": [
  {
   "cell_type": "markdown",
   "id": "0fddb7c5",
   "metadata": {},
   "source": [
    "# Optimization \n",
    "\n",
    "The goal of this notebook is just to dip your toes into the realm of optimization which is arguably the most important research topic today - all of ML relies on being able to optimize functions ASAP.\n",
    "\n",
    "## Definitions\n"
   ]
  },
  {
   "cell_type": "markdown",
   "id": "eaa11367",
   "metadata": {},
   "source": [
    "## Examples\n",
    "\n",
    "asdf"
   ]
  },
  {
   "cell_type": "markdown",
   "id": "da60ef3a",
   "metadata": {},
   "source": [
    "## Applications/Real Word Problems\n",
    "\n",
    "asdf"
   ]
  },
  {
   "cell_type": "markdown",
   "id": "17a2ad67",
   "metadata": {},
   "source": [
    "## Theory Problems\n",
    "\n",
    "Problems taken Chapter 6 in Heath's book:\n",
    "\n",
    "**6.1.** True or false: Points that minimize a nonlinear function are inherently less accurately determined than points for which a nonlinear function has a zero value.\n",
    "\n",
    "- asdf\n",
    "\n",
    "**6.2.** True or false: If a function is unimodal on a closed interval, then it has exactly one minimum on the interval.\n",
    "\n",
    "- asdf"
   ]
  },
  {
   "cell_type": "markdown",
   "id": "0105b304",
   "metadata": {},
   "source": [
    "## Coding Problems\n",
    "\n",
    "asdf"
   ]
  },
  {
   "cell_type": "markdown",
   "id": "d5f32e0b",
   "metadata": {},
   "source": [
    "# Sources\n",
    "\n",
    "- \"Scientific Computing: An Introductory Survey\" by Michael Heath.\n",
    "    - Cool book - used at stanford for graduate ml course, so trust me, it's good."
   ]
  }
 ],
 "metadata": {
  "kernelspec": {
   "display_name": "Python 3 (ipykernel)",
   "language": "python",
   "name": "python3"
  },
  "language_info": {
   "codemirror_mode": {
    "name": "ipython",
    "version": 3
   },
   "file_extension": ".py",
   "mimetype": "text/x-python",
   "name": "python",
   "nbconvert_exporter": "python",
   "pygments_lexer": "ipython3",
   "version": "3.9.6"
  }
 },
 "nbformat": 4,
 "nbformat_minor": 5
}
