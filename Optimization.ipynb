{
 "cells": [
  {
   "cell_type": "markdown",
   "id": "47a74ceb",
   "metadata": {},
   "source": [
    "# Optimization \n",
    "\n",
    "The goal of this notebook is just to dip your toes into the realm of optimization which is arguably the most important research topic today - all of ML relies on being able to optimize functions ASAP.\n",
    "\n",
    "## Definitions\n"
   ]
  },
  {
   "cell_type": "markdown",
   "id": "8a3b3e52",
   "metadata": {},
   "source": [
    "## Examples\n",
    "\n",
    "asdf"
   ]
  },
  {
   "cell_type": "markdown",
   "id": "867842d4",
   "metadata": {},
   "source": [
    "## Applications/Real Word Problems\n",
    "\n",
    "asdf"
   ]
  },
  {
   "cell_type": "markdown",
   "id": "393735a9",
   "metadata": {},
   "source": [
    "## Theory Problems\n",
    "\n",
    "asdf"
   ]
  },
  {
   "cell_type": "markdown",
   "id": "5ebf304f",
   "metadata": {},
   "source": [
    "## Coding Problems\n",
    "\n",
    "asdf"
   ]
  },
  {
   "cell_type": "markdown",
   "id": "6e145cbe",
   "metadata": {},
   "source": [
    "# Sources\n",
    "\n",
    "- \"Scientific Computing: An Introductory Survey\" by Michael Heath.\n",
    "    - Cool book - used at stanford for graduate ml course, so trust me, it's good."
   ]
  }
 ],
 "metadata": {
  "kernelspec": {
   "display_name": "Python 3 (ipykernel)",
   "language": "python",
   "name": "python3"
  },
  "language_info": {
   "codemirror_mode": {
    "name": "ipython",
    "version": 3
   },
   "file_extension": ".py",
   "mimetype": "text/x-python",
   "name": "python",
   "nbconvert_exporter": "python",
   "pygments_lexer": "ipython3",
   "version": "3.9.6"
  }
 },
 "nbformat": 4,
 "nbformat_minor": 5
}
