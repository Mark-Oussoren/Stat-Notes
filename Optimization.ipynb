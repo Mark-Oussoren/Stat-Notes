{
 "cells": [
  {
   "cell_type": "markdown",
   "id": "0fddb7c5",
   "metadata": {},
   "source": [
    "# Optimization \n",
    "\n",
    "The goal of this notebook is just to dip your toes into the realm of optimization which is arguably the most important research topic today - all of ML relies on being able to optimize functions ASAP.\n",
    "\n",
    "# Definitions\n",
    "\n",
    "Apologies in advance as algorithms cannot be written in nice pseudo-code in native Jupyter, so I have some jank bulleted lists\n",
    "\n",
    "### Unimodal\n",
    "\n",
    "A real-valued function $f$ is unimodal on an interval if there is a unique value $x^*$ in the interval such that $f(x^*)$ is the minimum of $f$ on the interval, and $f$ is strictly decreasing for $x\\leq x^*$ and strictly increasing for $x^*\\leq x$.\n",
    "\n",
    "### Golden Section Search\n",
    "\n",
    "*Golden Section Search Algorithm* \n",
    "\n",
    "* *Input*: a function $f$, a unimodal interval for $f$: $[a,b]$, and an error tolerance $tol$\n",
    "\n",
    "* $\\tau = \\frac{\\sqrt{5} - 1}{2}$\n",
    "\n",
    "* $x_1 = a + (1-\\tau)(b-a)$\n",
    "\n",
    "* $f_1 = f(x_1)$\n",
    "\n",
    "* $x_2 = a + \\tau (b-a)$\n",
    "\n",
    "* $f_2 = f(x_2)$\n",
    "\n",
    "\n",
    "* *while* $\\left((b - a) > tol\\right)$ *do*\n",
    "    * *if* $(f_1 > f_2)$ *then*\n",
    "        * $a = x_1$\n",
    "\n",
    "        * $x_1 = x_2$\n",
    "\n",
    "        * $f_1 = f_2$\n",
    "\n",
    "        * $x_2 = a + \\tau (b-a)$\n",
    "\n",
    "        * $f_2 = f(x_2)$\n",
    "   \n",
    "    * *else*\n",
    "        * $b = x_2$\n",
    "\n",
    "        * $x_2 = x_1$\n",
    "\n",
    "        * $f_2 = f_1$\n",
    "\n",
    "        * $x_1 = a + (1-\\tau)(b-a)$\n",
    "\n",
    "        * $f_1 = f(x_1)$\n",
    "\n",
    "    * *end*\n",
    "    \n",
    "* *end*\n",
    "\n"
   ]
  },
  {
   "cell_type": "markdown",
   "id": "27e5bb63",
   "metadata": {},
   "source": [
    "# Algorithm Implementation\n",
    "\n",
    "This section is designated to implementing the optimization algorithms and benchmarking performance against datasets. "
   ]
  },
  {
   "cell_type": "code",
   "execution_count": 1,
   "id": "d5878e3b",
   "metadata": {},
   "outputs": [],
   "source": [
    "import math\n",
    "import matplotlib.pyplot as plt\n",
    "import numpy as np\n",
    "import time\n",
    "from matplotlib.animation import FuncAnimation"
   ]
  },
  {
   "cell_type": "code",
   "execution_count": 2,
   "id": "336ff6f3",
   "metadata": {},
   "outputs": [],
   "source": [
    "# timer class to benchmark running times of algorithms\n",
    "class Timer: \n",
    "    \"\"\"Record multiple running times\"\"\"\n",
    "    def __init__(self):\n",
    "        self.times = []\n",
    "        self.start()\n",
    "\n",
    "    def start(self):\n",
    "        \"\"\"Start timer\"\"\"\n",
    "        self.tik = time.time()\n",
    "\n",
    "    def stop(self):\n",
    "        \"\"\"Stop timer and record the time in a list\"\"\"\n",
    "        self.times.append(time.time() - self.tik)\n",
    "        return self.times[-1]\n",
    "\n",
    "    def avg_time(self):\n",
    "        \"\"\"Return average time\"\"\"\n",
    "        return sum(self.times) / len(self.times)\n",
    "\n",
    "    def sum_time(self):\n",
    "        \"\"\"Return sum of time\"\"\"\n",
    "        return sum(self.times)\n",
    "\n",
    "    def cumsum_time(self):\n",
    "        \"\"\"Return accumulated time\"\"\"\n",
    "        return np.array(self.times).cumsum().tolist()"
   ]
  },
  {
   "cell_type": "markdown",
   "id": "37ebb26e",
   "metadata": {},
   "source": [
    "## Golden Section Search\n",
    "\n",
    "**Note**: Benchmarking this particular algorithm in relation to other ones is not intelligent in the slightest as this algorithm assumes we already are given a unimodal interval - useful only in theory."
   ]
  },
  {
   "cell_type": "code",
   "execution_count": 3,
   "id": "5a3c1d1c",
   "metadata": {},
   "outputs": [
    {
     "name": "stdout",
     "output_type": "stream",
     "text": [
      "Estimated Minimum: 0.0000537\n",
      "Time: 0.0005488 sec\n"
     ]
    }
   ],
   "source": [
    "def golden_section_search(f, a, b, tol):\n",
    "    \"\"\"\n",
    "    :param: f - function taking a float as input and float as output \n",
    "    :param: a - float, specifying min point on the unimodal interval for f\n",
    "    :param: b - float, specifying max point on the unimodal interval for f\n",
    "    :param: tol - float, specifying tolerance for how smallest interval to search\n",
    "    :return: minimum - float, where f is smallest on the interval\n",
    "    \"\"\"\n",
    "    tau = (np.sqrt(5) - 1) / 2\n",
    "    x_1 = a + (1 - tau) * (b - a)\n",
    "    f_1 = f(x_1)\n",
    "    x_2 = a + tau * (b - a)\n",
    "    f_2 = f(x_2)\n",
    "    \n",
    "    while (b - a) > tol:\n",
    "        if f_1 > f_2:\n",
    "            a = x_1\n",
    "            x_1 = x_2\n",
    "            f_1 = f_2\n",
    "            x_2 = a + tau * (b - a)\n",
    "            f_2 = f(x_2)\n",
    "        else:\n",
    "            b = x_2\n",
    "            x_2 = x_1\n",
    "            f_2 = f_1\n",
    "            x_1 = a + (1 - tau) * (b - a)\n",
    "            f_1 = f(x_1)\n",
    "            \n",
    "    return f_1\n",
    "\n",
    "# Example function\n",
    "def quadratic_func(x):\n",
    "    return x ** 2\n",
    "\n",
    "min_point = -10\n",
    "max_point = 10\n",
    "tol = 0.1\n",
    "\n",
    "# Time how long it takes to find min\n",
    "timer = Timer()\n",
    "timer.start()\n",
    "min_est = golden_section_search(f=quadratic_func, a=min_point, b=max_point, tol=tol)\n",
    "print(f'Estimated Minimum: {min_est:.7f}')\n",
    "print(f'Time: {timer.stop():.7f} sec')"
   ]
  },
  {
   "cell_type": "markdown",
   "id": "eaa11367",
   "metadata": {},
   "source": [
    "## Examples\n",
    "\n",
    "### Unimodal Functions\n",
    "\n",
    "Clearly $y=x^2$ is unimodal over all of $\\mathbb{R}$ and we can see that below. A function is unimodal again if there is a unique local minimum for some interval $[a,b]$ - uniqueness of the local minimum can be found by checking if the derivative of the function is zero or not. $y=20$ has derivative zero and we see the minimum is not unique."
   ]
  },
  {
   "cell_type": "code",
   "execution_count": 5,
   "id": "008dfd5b",
   "metadata": {},
   "outputs": [
    {
     "data": {
      "text/plain": [
       "<matplotlib.legend.Legend at 0x10fec0460>"
      ]
     },
     "execution_count": 5,
     "metadata": {},
     "output_type": "execute_result"
    },
    {
     "data": {
      "image/png": "[encoded data removed]",
      "text/plain": [
       "<Figure size 432x288 with 1 Axes>"
      ]
     },
     "metadata": {
      "needs_background": "light"
     },
     "output_type": "display_data"
    }
   ],
   "source": [
    "x = np.linspace(-10, 10, 100)\n",
    "y1 = x ** 2\n",
    "fig = plt.figure()\n",
    "ax = plt.axes()\n",
    "ax.plot(x, y1, label = \"$y=x^2$\")\n",
    "ax.plot(x, np.repeat(20, 100), label = \"$y=20$\")\n",
    "ax.legend()"
   ]
  },
  {
   "cell_type": "markdown",
   "id": "3af42702",
   "metadata": {},
   "source": [
    "### Golden Section Search Example\n",
    "\n",
    "Consider the above function $y = x^2$ on the interval $[-10,10]$ where it is unimodal. We can look at the iterations "
   ]
  },
  {
   "cell_type": "code",
   "execution_count": 24,
   "id": "bfc8e22b",
   "metadata": {},
   "outputs": [
    {
     "data": {
      "image/png": "[encoded data removed]",
      "text/plain": [
       "<Figure size 1296x216 with 1 Axes>"
      ]
     },
     "metadata": {
      "needs_background": "light"
     },
     "output_type": "display_data"
    }
   ],
   "source": [
    "def quadratic_func(x):\n",
    "    return x ** 2\n",
    "\n",
    "# intializing params\n",
    "a = -10\n",
    "b = 10\n",
    "tol = 0.1\n",
    "\n",
    "# generate the points for plotting\n",
    "start_points = []\n",
    "end_points = []\n",
    "start_values = []\n",
    "end_values = []\n",
    "\n",
    "tau = (np.sqrt(5) - 1) / 2\n",
    "x_1 = a + (1 - tau) * (b - a)\n",
    "start_points.append(x_1)\n",
    "f_1 = quadratic_func(x_1)\n",
    "start_values.append(f_1)\n",
    "x_2 = a + tau * (b - a)\n",
    "end_points.append(x_2)\n",
    "f_2 = quadratic_func(x_2)\n",
    "end_values.append(f_2)\n",
    "\n",
    "while (b - a) > tol:\n",
    "    if f_1 > f_2:\n",
    "        a = x_1\n",
    "        x_1 = x_2\n",
    "        start_points.append(x_1)\n",
    "        f_1 = f_2\n",
    "        start_values.append(f_1)\n",
    "        x_2 = a + tau * (b - a)\n",
    "        end_points.append(x_2)\n",
    "        f_2 = quadratic_func(x_2)\n",
    "        end_values.append(f_2)\n",
    "    else:\n",
    "        b = x_2\n",
    "        x_2 = x_1\n",
    "        end_points.append(x_2)\n",
    "        f_2 = f_1\n",
    "        end_values.append(f_2)\n",
    "        x_1 = a + (1 - tau) * (b - a)\n",
    "        start_points.append(x_1)\n",
    "        f_1 = quadratic_func(x_1)\n",
    "        start_values.append(f_1)\n",
    "                \n",
    "fig, ax = plt.subplots(figsize=(18, 3))\n",
    "x = np.linspace(-10, 10, 100)\n",
    "y1 = x ** 2\n",
    "ax.plot(x, y1, label = \"$y=x^2$\")\n",
    "for i in range(10):\n",
    "    ax.scatter(start_points[i], start_values[i])\n",
    "    ax.text(start_points[i] * (1.07), start_values[i] + 5 , i, fontsize=8)\n",
    "    \n",
    "plt.xlabel(\"X_1\")\n",
    "plt.title(\"Convergence of f from the Left Side\")\n",
    "plt.show()"
   ]
  },
  {
   "cell_type": "markdown",
   "id": "17a2ad67",
   "metadata": {},
   "source": [
    "## Theory Problems\n",
    "\n",
    "Problems taken Chapter 6 in Heath's book:\n",
    "\n",
    "**6.1.** True or false: Points that minimize a nonlinear function are inherently less accurately determined than points for which a nonlinear function has a zero value.\n",
    "\n",
    "- False: I do not like the wording, but I belive by less accurate he means more difficult to find. In this case it makes sense as stationary (zeros) are needed in the process of finding a minimum of a function. That is the latter also requires checking the partials and potentially higher order derivatives to verify if the point is a minimum.\n",
    "\n",
    "**6.2.** True or false: If a function is unimodal on a closed interval, then it has exactly one minimum on the interval.\n",
    "\n",
    "- True: By definition, we know that if there were not a unique minimum on the interval then $f$ would not be strictly decreasing and then strictly increasing after the point.\n",
    "\n",
    "**6.3** True or false: In minimizing a unimodal function of one variable by golden section search, the point discarded at each iteration is always the point having the largest function value.\n",
    "\n",
    "- True\n",
    "\n",
    "**6.4** True or false: For minimizing a real-valued function of several variables, the steepest descent method is usually more rapidly convergent than Newton's method."
   ]
  },
  {
   "cell_type": "markdown",
   "id": "0105b304",
   "metadata": {},
   "source": [
    "## Coding Problems\n",
    "\n",
    "asdf"
   ]
  },
  {
   "cell_type": "markdown",
   "id": "d5f32e0b",
   "metadata": {},
   "source": [
    "# Sources\n",
    "\n",
    "- \"Scientific Computing: An Introductory Survey\" by Michael Heath.\n",
    "    - Cool book - used at stanford for graduate ml course, so trust me, it's good."
   ]
  }
 ],
 "metadata": {
  "kernelspec": {
   "display_name": "Python 3 (ipykernel)",
   "language": "python",
   "name": "python3"
  },
  "language_info": {
   "codemirror_mode": {
    "name": "ipython",
    "version": 3
   },
   "file_extension": ".py",
   "mimetype": "text/x-python",
   "name": "python",
   "nbconvert_exporter": "python",
   "pygments_lexer": "ipython3",
   "version": "3.9.6"
  }
 },
 "nbformat": 4,
 "nbformat_minor": 5
}
