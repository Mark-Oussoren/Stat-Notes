{
 "cells": [
  {
   "cell_type": "markdown",
   "id": "0fddb7c5",
   "metadata": {},
   "source": [
    "# Optimization \n",
    "\n",
    "The goal of this notebook is just to dip your toes into the realm of optimization which is arguably the most important research topic today - all of ML relies on being able to optimize functions ASAP.\n",
    "\n",
    "## Definitions\n",
    "\n",
    "Apologies in advance as algorithms cannot be written in nice pseudo-code in native Jupyter, so I have some jank enumerated lists like 1. for asdf in asdf, do \n",
    "\n",
    "### Unimodal\n",
    "\n",
    "A real-valued function $f$ is unimodal on an interval if there is a unique value $x^*$ in the interval such that $f(x^*)$ is the minimum of $f$ on the interval, and $f$ is strictly decreasing for $x\\leq x^*$ and strictly increasing for $x^*\\leq x$.\n",
    "\n",
    "### Golden Section Search\n",
    "\n",
    "*Golden Section Search Algorithm* \n",
    "\n",
    "* *Input*: a function $f$, unimodal interval for $f$ $[a,b]$, and an error tolerance $tol$\n",
    "\n",
    "* $\\tau = \\frac{\\sqrt{5} - 1}{2}$\n",
    "\n",
    "* $x_1 = a + (1-\\tau)(b-a)$\n",
    "\n",
    "* $f_1 = f(x_1)$\n",
    "\n",
    "* $x_2 = a + \\tau (b-a)$\n",
    "\n",
    "* $f_2 = f(x_2)$\n",
    "\n",
    "\n",
    "* *while* $\\left((b - a) > tol\\right)$ *do*\n",
    "    * *if* $(f_1 > f_2)$ *then*\n",
    "        * $a = x_1$\n",
    "\n",
    "        * $x_1 = x_2$\n",
    "\n",
    "        * $f_1 = f_2$\n",
    "\n",
    "        * $x_2 = a + \\tau (b-a)$\n",
    "\n",
    "        * $f_2 = f(x_2)$\n",
    "   \n",
    "    * *else*\n",
    "        * $b = x_2$\n",
    "\n",
    "        * $x_2 = x_1$\n",
    "\n",
    "        * $f_2 = f_1$\n",
    "\n",
    "        * $x_1 = a + (1-\\tau)(b-a)$\n",
    "\n",
    "        * $f_1 = f(x_1)$\n",
    "\n",
    "    * *end*\n",
    "    \n",
    "* *end*\n",
    "\n"
   ]
  },
  {
   "cell_type": "markdown",
   "id": "eaa11367",
   "metadata": {},
   "source": [
    "## Examples\n",
    "\n",
    "### Unimodal Functions\n",
    "\n",
    "Clearly $y=x^2$ is unimodal over all of $\\mathbb{R}$ and we can see that below. A function is unimodal again if there is a unique local minimum for some interval $[a,b]$ - uniqueness of the local minimum can be found by checking if the derivative of the function is zero or not. $y=20$ has derivative zero and we see the minimum is not unique."
   ]
  },
  {
   "cell_type": "code",
   "execution_count": 6,
   "id": "ee50b209",
   "metadata": {},
   "outputs": [
    {
     "data": {
      "text/plain": [
       "<matplotlib.legend.Legend at 0x10fb90ca0>"
      ]
     },
     "execution_count": 6,
     "metadata": {},
     "output_type": "execute_result"
    },
    {
     "data": {
      "image/png": "[encoded data removed]",
      "text/plain": [
       "<Figure size 432x288 with 1 Axes>"
      ]
     },
     "metadata": {
      "needs_background": "light"
     },
     "output_type": "display_data"
    }
   ],
   "source": [
    "import matplotlib.pyplot as plt\n",
    "import numpy as np\n",
    "\n",
    "x = np.linspace(-10, 10, 100)\n",
    "y1 = x ** 2\n",
    "fig = plt.figure()\n",
    "ax = plt.axes()\n",
    "ax.plot(x, y1, label = '$y=x^2$')\n",
    "ax.plot(x, np.repeat(20, 100), label = '$y=20$')\n",
    "ax.legend()"
   ]
  },
  {
   "cell_type": "markdown",
   "id": "1d19cc86",
   "metadata": {},
   "source": [
    "### Golden Section Search Example\n",
    "\n",
    "Consider the above function $y = x^2$ on the interval $[-10,10]$ where it is unimodal. "
   ]
  },
  {
   "cell_type": "code",
   "execution_count": null,
   "id": "fac86fb3",
   "metadata": {},
   "outputs": [],
   "source": []
  },
  {
   "cell_type": "markdown",
   "id": "7c66da38",
   "metadata": {},
   "source": [
    "## Algorithm Implementation\n",
    "\n",
    "### Golden Section Search\n",
    "\n",
    "asdf"
   ]
  },
  {
   "cell_type": "markdown",
   "id": "da60ef3a",
   "metadata": {},
   "source": []
  },
  {
   "cell_type": "markdown",
   "id": "17a2ad67",
   "metadata": {},
   "source": [
    "## Theory Problems\n",
    "\n",
    "Problems taken Chapter 6 in Heath's book:\n",
    "\n",
    "**6.1.** True or false: Points that minimize a nonlinear function are inherently less accurately determined than points for which a nonlinear function has a zero value.\n",
    "\n",
    "- False: I do not like the wording, but I belive by less accurate he means more difficult to find. In this case it makes sense as stationary (zeros) are needed in the process of finding a minimum of a function. That is the latter also requires checking the partials and potentially higher order derivatives to verify if the point is a minimum.\n",
    "\n",
    "**6.2.** True or false: If a function is unimodal on a closed interval, then it has exactly one minimum on the interval.\n",
    "\n",
    "- True: By definition, we know that if there were not a unique minimum on the interval then $f$ would not be strictly decreasing and then strictly increasing after the point.\n",
    "\n",
    "**6.3** True or false: In minimizing a unimodal function of one variable by golden section search, the point discarded at each iteration is always the point having the largest function value.\n",
    "\n",
    "- True\n",
    "\n",
    "**6.4** True or false: For minimizing a real-valued function of several variables, the steepest descent method is usually more rapidly convergent than Newton's method."
   ]
  },
  {
   "cell_type": "markdown",
   "id": "0105b304",
   "metadata": {},
   "source": [
    "## Coding Problems\n",
    "\n",
    "asdf"
   ]
  },
  {
   "cell_type": "markdown",
   "id": "d5f32e0b",
   "metadata": {},
   "source": [
    "# Sources\n",
    "\n",
    "- \"Scientific Computing: An Introductory Survey\" by Michael Heath.\n",
    "    - Cool book - used at stanford for graduate ml course, so trust me, it's good."
   ]
  }
 ],
 "metadata": {
  "kernelspec": {
   "display_name": "Python 3 (ipykernel)",
   "language": "python",
   "name": "python3"
  },
  "language_info": {
   "codemirror_mode": {
    "name": "ipython",
    "version": 3
   },
   "file_extension": ".py",
   "mimetype": "text/x-python",
   "name": "python",
   "nbconvert_exporter": "python",
   "pygments_lexer": "ipython3",
   "version": "3.9.6"
  }
 },
 "nbformat": 4,
 "nbformat_minor": 5
}
