{
 "cells": [
  {
   "cell_type": "markdown",
   "id": "27e263e0",
   "metadata": {},
   "source": [
    "# Optimization \n",
    "\n",
    "The goal of this notebook is just to dip your toes into the realm of optimization which is arguably the most important research topic today - all of ML relies on being able to optimize functions ASAP."
   ]
  },
  {
   "cell_type": "markdown",
   "id": "0b76493a",
   "metadata": {},
   "source": [
    "# Exposition\n",
    "\n",
    "Optimization is very easy to intuitively see what the goal is. We have a task like we want to feed the poor. This is either yes or no - alongside this objective, we desire to minimize the costs so as to be able to feed everyone which forms a constraint in our system. Alongside this cost constraint, we could impose a nutritional constraint where we would like to maximize the nutritional value as well. These contrast with each other in that as one becomes more and more satisfied, the other becomes less satisfied (lower cost = lower nutritional value generally) and so optimization creates a difficult, but easy to understand objective where we desire to find the best solution or food layout given and admissible set of choices to begin with.\n",
    "\n",
    "## The Setup of Optimization Tasks\n",
    "\n",
    "The problem we are interested in is nonlinear optimization and our problem can be more formally stated as follows: let $x$ be an $n$-dimensional real vector: \n",
    "\n",
    "$$x=\\left(x^{(1)},\\dots,x^{(n)}\\right)^T\\in\\mathbb{R}^n,$$\n",
    "\n",
    "and $f_0(\\cdot),\\dots,f_m(\\cdot)$ be some real-valued functions defined on a set $Q\\subset \\mathbb{R^n}$. Nesterov's book focuses on problems of the minimization problem\n",
    "\n",
    "$$\\min\\limits_{x\\in Q} f_0(x)$$\n",
    "\n",
    "such that \n",
    "\n",
    "$$f_j(x)\\& 0,\\;\\;\\; j=1,\\dots,m,$$\n",
    "\n",
    "where $\\&$ could be $\\leq, \\geq,$ or $=$. Here we denote $f_0(\\cdot )$ as the **objective function** and \n",
    "\n",
    "$$f(x)=\\left(f_1(x),\\dots,f_m(x)\\right)^T$$\n",
    "\n",
    "is called the vector of **functional constraints**, the set $Q$ is called the **basic feasible set**, and we call the **entire feasible set** as \n",
    "\n",
    "$$\\mathcal{F} = \\left\\{x\\in Q: f_j(x)\\leq 0,j=1,\\dots,m\\right\\}$$\n",
    "\n",
    "which basically denotes the points satisfying the constraints of those tested from the basic feasible set. We take the minimization of $f_0(\\cdot)$ above but as equally valid, we could have taken $-f(\\cdot)$ if we desired a maximization of $f(\\cdot)$. \n",
    "\n",
    "Optimization algorithms and techniques are generally well-defined and intended for an entire class of problems - not function by function of course. Understanding the class that a particular problem belongs to is the most important step in being able to solve it or cannot. With that in mind, we have a nice classification of optimization problem types based on the functions involved:\n",
    "\n",
    "- **Constrained problems** where $\\mathcal{F}$ is a proper subset of $\\mathbb{R}^n$\n",
    "\n",
    "- **Unconstrained problems** where $\\mathcal{F}$ spans all of $\\mathbb{R}^n$\n",
    "\n",
    "- **Smooth problems** where the objective function and functional constraints are all smooth (continuous derivatives)\n",
    "\n",
    "- **Nonsmooth problems** where some or all of the functions above are non-differentiable\n",
    "\n",
    "- **Linearly constrained problems** where the functional constraints are affine (a linear function coupled with a translation - not centered at the origin):\n",
    "\n",
    "$$f_j(x) = \\sum\\limits_{i=1}^n a_j^{(i)}x^{(i)} + b_j.$$\n",
    "\n",
    "- **Linear optimization problems** where the objective function is affine.\n",
    "\n",
    "- **Quadratic optimization problems** where the objective function is quadratic.\n",
    "\n",
    "- This list goes on, but these are the important ones.\n",
    "\n",
    "Similarly, we can disect and classify problems based on the feasible set:\n",
    "\n",
    "- The minimization problem is feasible (not impossible) if $\\mathcal{F}\\neq 0$\n",
    "\n",
    "- The minimization problem is strictly feasible if there exists an $x\\in Q$ such that $f_j(x)<0$ (or $f_j(x)>0$) for all inequality constrains and $f_j(x)=0$ for all equality constraints. Basically same as above, but strict inequalities only.\n",
    "\n",
    "Finally, we also have different classes of problems for different types of solutions:\n",
    "\n",
    "- $x^*\\in\\mathcal{F}$ is called a global optimal solution to the minimization problem if $f_0(x^*)\\leq f_0(x)$ for all $x\\in\\mathcal{F}$. In this case, $f_0(x^*)$ is called the global optimial value of the problem.\n",
    "\n",
    "- $x^*\\in\\mathcal{F}$ is called a local solution to the minimization problem if there exists a set $\\hat{\\mathcal{F}}\\subset \\mathcal{F}$ such that $x^*\\in\\hat{\\mathcal{F}^\\circ}$ (the interior of $\\hat{\\mathcal{F}}$) and $f_0(x^*)\\leq f_0(x)$ for all $x\\in\\hat{\\mathcal{F}}$ (local minimum). If $f_0(x^*)<f_0(x)$ for all $x\\in\\hat{\\mathcal{F}}\\setminus \\{x^*\\}$, then $x^*$ represents a strict (or isolated) local minimum.\n",
    "\n",
    "## The Performance of Optimization Algorithms\n",
    "\n",
    "...\n"
   ]
  },
  {
   "cell_type": "markdown",
   "id": "0fddb7c5",
   "metadata": {},
   "source": [
    "\n",
    "# Definitions\n",
    "\n",
    "Apologies in advance as algorithms cannot be written in nice pseudo-code in native Jupyter, so I have some jank bulleted lists\n",
    "\n",
    "### Unimodal\n",
    "\n",
    "A real-valued function $f$ is unimodal on an interval if there is a unique value $x^*$ in the interval such that $f(x^*)$ is the minimum of $f$ on the interval, and $f$ is strictly decreasing for $x\\leq x^*$ and strictly increasing for $x^*\\leq x$.\n",
    "\n",
    "### Golden Section Search\n",
    "\n",
    "If we suppose that $f$ is unimodal on the interval $[a,b]$ and we desire to find the minimum, then there are two key goals for admissible algorithms: 1) minimize the number of function calls and 2) reduce the search interval size each time. \n",
    "\n",
    "Consider first the intuitive way of finding the minimum: first find the midpoint of $[a,b]$ which is $m=a+b/2$. Then evaluate $f$ at $m-\\frac{\\delta}{2}$ and $m+\\frac{\\delta}{2}$ for small $\\delta$. If $f(m-\\frac{\\delta}{2})<f(m+\\frac{\\delta}{2})$, we know the minimum cannot lie in $[m+\\frac{\\delta}{2},b]$ as the function is unimodal over the interval. Thus the next interval we would look at is $[a,m-\\frac{\\delta}{2}]$ otherwise we'd look at $[m+\\frac{\\delta}{2},b]$. Notice that we can exclude the interval $(m-\\frac{\\delta}{2},m+\\frac{\\delta}{2})$ as $\\delta$ is very small. This method halves the search interval at each step but it requires two function calls to find $f(m-\\frac{\\delta}{2})$ and $f(m+\\frac{\\delta}{2})$. Let us call this method the midpoint section search. \n",
    "\n",
    "Let us see if we can obtain a similar reduction in the interval at each step but only use one function call. If $f(x_1)<f(x_2)$, then our new interval is reduced to $[a,x_2]$ so \n",
    "\n",
    "$$x_2 - a = c(b - a)\\iff x_2 = (1 - c)a + cb.$$\n",
    "\n",
    "Otherwise, if $f(x_1)>f(x_2)$, then our interval is $[x_1,b]$ and \n",
    "\n",
    "$$b - x_1 = c(b - a)\\iff x_1 = ca + (1 - c)b.$$\n",
    "\n",
    "\n",
    "\n",
    "*Golden Section Search Algorithm* \n",
    "\n",
    "* *Input*: a function $f$, a unimodal interval for $f$: $[a,b]$, and an error tolerance $tol$\n",
    "\n",
    "* $\\tau = \\frac{\\sqrt{5} - 1}{2}$\n",
    "\n",
    "* $x_1 = a + (1-\\tau)(b-a)$\n",
    "\n",
    "* $f_1 = f(x_1)$\n",
    "\n",
    "* $x_2 = a + \\tau (b-a)$\n",
    "\n",
    "* $f_2 = f(x_2)$\n",
    "\n",
    "\n",
    "* *while* $\\left((b - a) > tol\\right)$ *do*\n",
    "    * *if* $(f_1 > f_2)$ *then*\n",
    "        * $a = x_1$\n",
    "\n",
    "        * $x_1 = x_2$\n",
    "\n",
    "        * $f_1 = f_2$\n",
    "\n",
    "        * $x_2 = a + \\tau (b-a)$\n",
    "\n",
    "        * $f_2 = f(x_2)$\n",
    "   \n",
    "    * *else*\n",
    "        * $b = x_2$\n",
    "\n",
    "        * $x_2 = x_1$\n",
    "\n",
    "        * $f_2 = f_1$\n",
    "\n",
    "        * $x_1 = a + (1-\\tau)(b-a)$\n",
    "\n",
    "        * $f_1 = f(x_1)$\n",
    "\n",
    "    * *end*\n",
    "    \n",
    "* *end*\n",
    "\n"
   ]
  },
  {
   "cell_type": "markdown",
   "id": "27e5bb63",
   "metadata": {},
   "source": [
    "# Algorithm Implementation\n",
    "\n",
    "This section is designated to implementing the optimization algorithms and benchmarking performance against datasets. "
   ]
  },
  {
   "cell_type": "code",
   "execution_count": 1,
   "id": "d5878e3b",
   "metadata": {},
   "outputs": [],
   "source": [
    "import math\n",
    "import matplotlib.pyplot as plt\n",
    "import numpy as np\n",
    "import time\n",
    "from matplotlib.animation import FuncAnimation"
   ]
  },
  {
   "cell_type": "code",
   "execution_count": 2,
   "id": "336ff6f3",
   "metadata": {},
   "outputs": [],
   "source": [
    "# timer class to benchmark running times of algorithms\n",
    "class Timer: \n",
    "    \"\"\"Record multiple running times\"\"\"\n",
    "    def __init__(self):\n",
    "        self.times = []\n",
    "        self.start()\n",
    "\n",
    "    def start(self):\n",
    "        \"\"\"Start timer\"\"\"\n",
    "        self.tik = time.time()\n",
    "\n",
    "    def stop(self):\n",
    "        \"\"\"Stop timer and record the time in a list\"\"\"\n",
    "        self.times.append(time.time() - self.tik)\n",
    "        return self.times[-1]\n",
    "\n",
    "    def avg_time(self):\n",
    "        \"\"\"Return average time\"\"\"\n",
    "        return sum(self.times) / len(self.times)\n",
    "\n",
    "    def sum_time(self):\n",
    "        \"\"\"Return sum of time\"\"\"\n",
    "        return sum(self.times)\n",
    "\n",
    "    def cumsum_time(self):\n",
    "        \"\"\"Return accumulated time\"\"\"\n",
    "        return np.array(self.times).cumsum().tolist()"
   ]
  },
  {
   "cell_type": "markdown",
   "id": "37ebb26e",
   "metadata": {},
   "source": [
    "## Golden Section Search\n",
    "\n",
    "**Note**: Benchmarking this particular algorithm in relation to other ones is not intelligent in the slightest as this algorithm assumes we already are given a unimodal interval - useful only in theory."
   ]
  },
  {
   "cell_type": "code",
   "execution_count": 3,
   "id": "5a3c1d1c",
   "metadata": {},
   "outputs": [
    {
     "name": "stdout",
     "output_type": "stream",
     "text": [
      "Estimated Minimum: 0.0000537\n",
      "Time: 0.0005488 sec\n"
     ]
    }
   ],
   "source": [
    "def golden_section_search(f, a, b, tol):\n",
    "    \"\"\"\n",
    "    :param: f - function taking a float as input and float as output \n",
    "    :param: a - float, specifying min point on the unimodal interval for f\n",
    "    :param: b - float, specifying max point on the unimodal interval for f\n",
    "    :param: tol - float, specifying tolerance for how smallest interval to search\n",
    "    :return: minimum - float, where f is smallest on the interval\n",
    "    \"\"\"\n",
    "    tau = (np.sqrt(5) - 1) / 2\n",
    "    x_1 = a + (1 - tau) * (b - a)\n",
    "    f_1 = f(x_1)\n",
    "    x_2 = a + tau * (b - a)\n",
    "    f_2 = f(x_2)\n",
    "    \n",
    "    while (b - a) > tol:\n",
    "        if f_1 > f_2:\n",
    "            a = x_1\n",
    "            x_1 = x_2\n",
    "            f_1 = f_2\n",
    "            x_2 = a + tau * (b - a)\n",
    "            f_2 = f(x_2)\n",
    "        else:\n",
    "            b = x_2\n",
    "            x_2 = x_1\n",
    "            f_2 = f_1\n",
    "            x_1 = a + (1 - tau) * (b - a)\n",
    "            f_1 = f(x_1)\n",
    "            \n",
    "    return f_1\n",
    "\n",
    "# Example function\n",
    "def quadratic_func(x):\n",
    "    return x ** 2\n",
    "\n",
    "min_point = -10\n",
    "max_point = 10\n",
    "tol = 0.1\n",
    "\n",
    "# Time how long it takes to find min\n",
    "timer = Timer()\n",
    "timer.start()\n",
    "min_est = golden_section_search(f=quadratic_func, a=min_point, b=max_point, tol=tol)\n",
    "print(f'Estimated Minimum: {min_est:.7f}')\n",
    "print(f'Time: {timer.stop():.7f} sec')"
   ]
  },
  {
   "cell_type": "markdown",
   "id": "eaa11367",
   "metadata": {},
   "source": [
    "## Examples\n",
    "\n",
    "### Unimodal Functions\n",
    "\n",
    "Clearly $y=x^2$ is unimodal over all of $\\mathbb{R}$ and we can see that below. A function is unimodal again if there is a unique local minimum for some interval $[a,b]$ - uniqueness of the local minimum can be found by checking if the derivative of the function is zero or not. $y=20$ has derivative zero and we see the minimum is not unique."
   ]
  },
  {
   "cell_type": "code",
   "execution_count": 5,
   "id": "008dfd5b",
   "metadata": {},
   "outputs": [
    {
     "data": {
      "text/plain": [
       "<matplotlib.legend.Legend at 0x10fec0460>"
      ]
     },
     "execution_count": 5,
     "metadata": {},
     "output_type": "execute_result"
    },
    {
     "data": {
      "image/png": "[encoded data removed]",
      "text/plain": [
       "<Figure size 432x288 with 1 Axes>"
      ]
     },
     "metadata": {
      "needs_background": "light"
     },
     "output_type": "display_data"
    }
   ],
   "source": [
    "x = np.linspace(-10, 10, 100)\n",
    "y1 = x ** 2\n",
    "fig = plt.figure()\n",
    "ax = plt.axes()\n",
    "ax.plot(x, y1, label = \"$y=x^2$\")\n",
    "ax.plot(x, np.repeat(20, 100), label = \"$y=20$\")\n",
    "ax.legend()"
   ]
  },
  {
   "cell_type": "markdown",
   "id": "3af42702",
   "metadata": {},
   "source": [
    "### Golden Section Search Example\n",
    "\n",
    "Consider the above function $y = x^2$ on the interval $[-10,10]$ where it is unimodal. We can look at the iterations of the algorithm below. This is a very simple function and as evidence, this converges to the minimum in less than 10 iterations quite quickly. "
   ]
  },
  {
   "cell_type": "code",
   "execution_count": 32,
   "id": "bfc8e22b",
   "metadata": {},
   "outputs": [
    {
     "data": {
      "image/png": "[encoded data removed]",
      "text/plain": [
       "<Figure size 1296x216 with 1 Axes>"
      ]
     },
     "metadata": {
      "needs_background": "light"
     },
     "output_type": "display_data"
    }
   ],
   "source": [
    "def quadratic_func(x):\n",
    "    return x ** 2\n",
    "\n",
    "# intializing params\n",
    "a = -10\n",
    "b = 10\n",
    "tol = 0.1\n",
    "\n",
    "# generate the points for plotting\n",
    "start_points = []\n",
    "end_points = []\n",
    "start_values = []\n",
    "end_values = []\n",
    "\n",
    "tau = (np.sqrt(5) - 1) / 2\n",
    "x_1 = a + (1 - tau) * (b - a)\n",
    "start_points.append(x_1)\n",
    "f_1 = quadratic_func(x_1)\n",
    "start_values.append(f_1)\n",
    "x_2 = a + tau * (b - a)\n",
    "end_points.append(x_2)\n",
    "f_2 = quadratic_func(x_2)\n",
    "end_values.append(f_2)\n",
    "\n",
    "while (b - a) > tol:\n",
    "    if f_1 > f_2:\n",
    "        a = x_1\n",
    "        x_1 = x_2\n",
    "        start_points.append(x_1)\n",
    "        f_1 = f_2\n",
    "        start_values.append(f_1)\n",
    "        x_2 = a + tau * (b - a)\n",
    "        end_points.append(x_2)\n",
    "        f_2 = quadratic_func(x_2)\n",
    "        end_values.append(f_2)\n",
    "    else:\n",
    "        b = x_2\n",
    "        x_2 = x_1\n",
    "        end_points.append(x_2)\n",
    "        f_2 = f_1\n",
    "        end_values.append(f_2)\n",
    "        x_1 = a + (1 - tau) * (b - a)\n",
    "        start_points.append(x_1)\n",
    "        f_1 = quadratic_func(x_1)\n",
    "        start_values.append(f_1)\n",
    "                \n",
    "fig, ax = plt.subplots(figsize=(18, 3))\n",
    "x = np.linspace(-10, 10, 100)\n",
    "y1 = x ** 2\n",
    "ax.plot(x, y1, label = \"$y=x^2$\")\n",
    "for i in range(8):\n",
    "    ax.scatter(start_points[i], start_values[i])\n",
    "    ax.text(start_points[i] * (1.07), start_values[i] + 5 , i, fontsize=8)\n",
    "    \n",
    "plt.xlabel(\"$x_1$\")\n",
    "plt.ylabel(\"$f(x_1)$\")\n",
    "plt.title(\"Convergence of $f(x_1)$\")\n",
    "plt.show()"
   ]
  },
  {
   "cell_type": "markdown",
   "id": "17a2ad67",
   "metadata": {},
   "source": [
    "## Theory Problems\n",
    "\n",
    "## Problems in Vishnoi's book\n",
    "\n",
    "### Preliminaries\n",
    "\n",
    "**2.1**: For each of the following functions, compute the gradient and the Hessian, and write the second-order Taylor approximation\n",
    "\n",
    "**(a)** $f(x)=\\sum\\limits_{i=1}^m (a_i^T x - b_i)^2$ for $x\\in\\mathbb{Q}^n$, where $a_1,\\dots,a_m\\in\\mathbb{Q}^m$ and $b_1,\\dots,b_m\\in\\mathbb{Q}$.\n",
    "\n",
    "**(b)** $f(x)=\\log\\left(\\sum\\limits_{j=1}^m e^{\\langle x,v_j\\rangle}\\right)$, where $v_1,\\dots,v_m\\in\\mathbb{Q}^n$\n",
    "\n",
    "**(c)** $f(X)=\\text{Tr}(AX)$, where $A$ is a symmetric $n\\times n$ matrix and $X$ runs over symmetric matrices.\n",
    "\n",
    "**(d)** $f(X)=-\\log \\det X$, where $X$ runs over positive definite matrices.\n",
    "\n",
    "- For (a), we have \n",
    "\n",
    "$$\\nabla f(x) = \\sum\\limits_{i=1}^m 2(a_i^Tx - b_i)a_i^T$$\n",
    "\n",
    "and \n",
    "\n",
    "$$H(f(x)) = J(\\nabla f(x)) = $$\n",
    "\n",
    "\n",
    "\n",
    "### Problems in Heath's book (ch. 6):\n",
    "\n",
    "**6.1.** True or false: Points that minimize a nonlinear function are inherently less accurately determined than points for which a nonlinear function has a zero value.\n",
    "\n",
    "- False: I do not like the wording, but I belive by less accurate he means more difficult to find. In this case it makes sense as stationary (zeros) are needed in the process of finding a minimum of a function. That is the latter also requires checking the partials and potentially higher order derivatives to verify if the point is a minimum.\n",
    "\n",
    "**6.2.** True or false: If a function is unimodal on a closed interval, then it has exactly one minimum on the interval.\n",
    "\n",
    "- True: By definition, we know that if there were not a unique minimum on the interval then $f$ would not be strictly decreasing and then strictly increasing after the point.\n",
    "\n",
    "**6.3** True or false: In minimizing a unimodal function of one variable by golden section search, the point discarded at each iteration is always the point having the largest function value.\n",
    "\n",
    "- True: If $f(x_1)<f(x_2)$, then we know $(x_2,b]$ cannot contain the minimum, so we look at $[a,x_2)$ subsequently - i.e. we take the new $b$ as $x_2$ and .\n",
    "\n",
    "**6.4** True or false: For minimizing a real-valued function of several variables, the steepest descent method is usually more rapidly convergent than Newton's method."
   ]
  },
  {
   "cell_type": "markdown",
   "id": "0105b304",
   "metadata": {},
   "source": [
    "## Coding Problems\n",
    "\n",
    "asdf"
   ]
  },
  {
   "cell_type": "markdown",
   "id": "d5f32e0b",
   "metadata": {},
   "source": [
    "# Sources\n",
    "\n",
    "- \"Scientific Computing: An Introductory Survey\" by Michael Heath.\n",
    "    - Cool book - used at stanford for graduate ml course\n",
    "    \n",
    "- \"Lectures on Convex Optimization\" by Yurii Nesterov\n",
    "    - Book here for 227c (grad convex optimization)\n",
    "    \n",
    "- \"Algorithms for Convex Optimization\" by Vishnoi\n",
    "    - Book here for 227c"
   ]
  }
 ],
 "metadata": {
  "kernelspec": {
   "display_name": "Python 3 (ipykernel)",
   "language": "python",
   "name": "python3"
  },
  "language_info": {
   "codemirror_mode": {
    "name": "ipython",
    "version": 3
   },
   "file_extension": ".py",
   "mimetype": "text/x-python",
   "name": "python",
   "nbconvert_exporter": "python",
   "pygments_lexer": "ipython3",
   "version": "3.9.6"
  }
 },
 "nbformat": 4,
 "nbformat_minor": 5
}
